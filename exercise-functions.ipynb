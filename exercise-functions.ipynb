{
 "cells": [
  {
   "cell_type": "markdown",
   "id": "0664a6ca",
   "metadata": {
    "papermill": {
     "duration": 0.009989,
     "end_time": "2022-06-01T18:07:07.610680",
     "exception": false,
     "start_time": "2022-06-01T18:07:07.600691",
     "status": "completed"
    },
    "tags": []
   },
   "source": [
    "**This notebook is an exercise in the [Intro to Programming](https://www.kaggle.com/learn/intro-to-programming) course.  You can reference the tutorial at [this link](https://www.kaggle.com/alexisbcook/functions).**\n",
    "\n",
    "---\n"
   ]
  },
  {
   "cell_type": "markdown",
   "id": "1d4c352d",
   "metadata": {
    "papermill": {
     "duration": 0.006001,
     "end_time": "2022-06-01T18:07:07.623378",
     "exception": false,
     "start_time": "2022-06-01T18:07:07.617377",
     "status": "completed"
    },
    "tags": []
   },
   "source": [
    "In the tutorial, you learned about functions. In this exercise, you'll write some of your own!\n",
    "\n",
    "# Set up the notebook\n",
    "\n",
    "Run the next code cell without changes to set up the notebook."
   ]
  },
  {
   "cell_type": "code",
   "execution_count": 1,
   "id": "5c69ec7a",
   "metadata": {
    "execution": {
     "iopub.execute_input": "2022-06-01T18:07:07.639027Z",
     "iopub.status.busy": "2022-06-01T18:07:07.638117Z",
     "iopub.status.idle": "2022-06-01T18:07:07.687517Z",
     "shell.execute_reply": "2022-06-01T18:07:07.686628Z"
    },
    "papermill": {
     "duration": 0.060553,
     "end_time": "2022-06-01T18:07:07.690603",
     "exception": false,
     "start_time": "2022-06-01T18:07:07.630050",
     "status": "completed"
    },
    "tags": []
   },
   "outputs": [
    {
     "name": "stdout",
     "output_type": "stream",
     "text": [
      "Setup complete.\n"
     ]
    }
   ],
   "source": [
    "# Set up the exercise\n",
    "import math\n",
    "from learntools.core import binder\n",
    "binder.bind(globals())\n",
    "from learntools.intro_to_programming.ex2 import *\n",
    "print('Setup complete.')"
   ]
  },
  {
   "cell_type": "markdown",
   "id": "818fa2d6",
   "metadata": {
    "papermill": {
     "duration": 0.00614,
     "end_time": "2022-06-01T18:07:07.703979",
     "exception": false,
     "start_time": "2022-06-01T18:07:07.697839",
     "status": "completed"
    },
    "tags": []
   },
   "source": [
    "# Question 1\n",
    "\n",
    "In the [House Prices - Advanced Regression Techniques competition](https://www.kaggle.com/c/house-prices-advanced-regression-techniques/overview), you need to use information like the number of bedrooms and bathrooms to predict the price of a house.  Inspired by this competition, you'll write your own function to do this.\n",
    "\n",
    "In the next code cell, create a function `get_expected_cost()` that has two arguments:\n",
    "- `beds` - number of bedrooms \n",
    "- `baths` - number of bathrooms\n",
    "\n",
    "It should return the expected cost of a house with that number of bedrooms and bathrooms.  Assume that:\n",
    "- the expected cost for a house with 0 bedrooms and 0 bathrooms is `80000`.  \n",
    "- each bedroom adds `30000` to the expected cost\n",
    "- each bathroom adds `10000` to the expected cost.\n",
    "\n",
    "For instance, \n",
    "- a house with 1 bedroom and 1 bathroom has an expected cost of `120000`, and \n",
    "- a house with 2 bedrooms and 1 bathroom has an expected cost of `150000`."
   ]
  },
  {
   "cell_type": "code",
   "execution_count": 2,
   "id": "842adc6d",
   "metadata": {
    "execution": {
     "iopub.execute_input": "2022-06-01T18:07:07.718762Z",
     "iopub.status.busy": "2022-06-01T18:07:07.718068Z",
     "iopub.status.idle": "2022-06-01T18:07:07.729070Z",
     "shell.execute_reply": "2022-06-01T18:07:07.728167Z"
    },
    "papermill": {
     "duration": 0.020528,
     "end_time": "2022-06-01T18:07:07.730913",
     "exception": false,
     "start_time": "2022-06-01T18:07:07.710385",
     "status": "completed"
    },
    "tags": []
   },
   "outputs": [
    {
     "data": {
      "application/javascript": [
       "parent.postMessage({\"jupyterEvent\": \"custom.exercise_interaction\", \"data\": {\"outcomeType\": 1, \"valueTowardsCompletion\": 0.2, \"interactionType\": 1, \"questionType\": 2, \"questionId\": \"1_GetExpectedCost\", \"learnToolsVersion\": \"0.3.4\", \"failureMessage\": \"\", \"exceptionClass\": \"\", \"trace\": \"\"}}, \"*\")"
      ],
      "text/plain": [
       "<IPython.core.display.Javascript object>"
      ]
     },
     "metadata": {},
     "output_type": "display_data"
    },
    {
     "data": {
      "text/markdown": [
       "<span style=\"color:#33cc33\">Correct</span>"
      ],
      "text/plain": [
       "Correct"
      ]
     },
     "metadata": {},
     "output_type": "display_data"
    }
   ],
   "source": [
    "# TODO: Complete the function\n",
    "def get_expected_cost(beds, baths):\n",
    "    value = 80000 + (beds*30000)+ (baths*10000)\n",
    "    return value\n",
    "\n",
    "# Check your answer \n",
    "q1.check()"
   ]
  },
  {
   "cell_type": "code",
   "execution_count": 3,
   "id": "b33e1bca",
   "metadata": {
    "execution": {
     "iopub.execute_input": "2022-06-01T18:07:07.746553Z",
     "iopub.status.busy": "2022-06-01T18:07:07.745837Z",
     "iopub.status.idle": "2022-06-01T18:07:07.750209Z",
     "shell.execute_reply": "2022-06-01T18:07:07.749324Z"
    },
    "papermill": {
     "duration": 0.014643,
     "end_time": "2022-06-01T18:07:07.752320",
     "exception": false,
     "start_time": "2022-06-01T18:07:07.737677",
     "status": "completed"
    },
    "tags": []
   },
   "outputs": [],
   "source": [
    "# Uncomment to see a hint\n",
    "#q1.hint()\n",
    "\n",
    "# Uncomment to view the solution\n",
    "#q1.solution()"
   ]
  },
  {
   "cell_type": "markdown",
   "id": "ccea794d",
   "metadata": {
    "papermill": {
     "duration": 0.006863,
     "end_time": "2022-06-01T18:07:07.766144",
     "exception": false,
     "start_time": "2022-06-01T18:07:07.759281",
     "status": "completed"
    },
    "tags": []
   },
   "source": [
    "# Question 2\n",
    "\n",
    "You are thinking about buying a home and want to get an idea of how much you will spend, based on the number of bedrooms and bathrooms.  You are trying to decide between four different options:\n",
    "- Option 1: house with two bedrooms and three bathrooms\n",
    "- Option 2: house with three bedrooms and two bathrooms\n",
    "- Option 3: house with three bedrooms and three bathrooms\n",
    "- Option 4: house with three bedrooms and four bathrooms\n",
    "\n",
    "Use the `get_expected_cost()` function you defined in question 1 to set `option_1`, `option_2`, `option_3`, and `option_4` to the expected cost of each option."
   ]
  },
  {
   "cell_type": "code",
   "execution_count": 4,
   "id": "44bdc034",
   "metadata": {
    "execution": {
     "iopub.execute_input": "2022-06-01T18:07:07.782489Z",
     "iopub.status.busy": "2022-06-01T18:07:07.781405Z",
     "iopub.status.idle": "2022-06-01T18:07:07.793259Z",
     "shell.execute_reply": "2022-06-01T18:07:07.791890Z"
    },
    "papermill": {
     "duration": 0.02235,
     "end_time": "2022-06-01T18:07:07.795443",
     "exception": false,
     "start_time": "2022-06-01T18:07:07.773093",
     "status": "completed"
    },
    "tags": []
   },
   "outputs": [
    {
     "name": "stdout",
     "output_type": "stream",
     "text": [
      "170000\n",
      "190000\n",
      "200000\n",
      "210000\n"
     ]
    },
    {
     "data": {
      "application/javascript": [
       "parent.postMessage({\"jupyterEvent\": \"custom.exercise_interaction\", \"data\": {\"outcomeType\": 1, \"valueTowardsCompletion\": 0.2, \"interactionType\": 1, \"questionType\": 1, \"questionId\": \"2_RunGetExpectedCost\", \"learnToolsVersion\": \"0.3.4\", \"failureMessage\": \"\", \"exceptionClass\": \"\", \"trace\": \"\"}}, \"*\")"
      ],
      "text/plain": [
       "<IPython.core.display.Javascript object>"
      ]
     },
     "metadata": {},
     "output_type": "display_data"
    },
    {
     "data": {
      "text/markdown": [
       "<span style=\"color:#33cc33\">Correct</span>"
      ],
      "text/plain": [
       "Correct"
      ]
     },
     "metadata": {},
     "output_type": "display_data"
    }
   ],
   "source": [
    "# TODO: Use the get_expected_cost function to fill in each value\n",
    "option_one = get_expected_cost(2,3)\n",
    "option_two = get_expected_cost(3,2)\n",
    "option_three = get_expected_cost(3,3)\n",
    "option_four = get_expected_cost(3,4)\n",
    "\n",
    "print(option_one)\n",
    "print(option_two)\n",
    "print(option_three)\n",
    "print(option_four)\n",
    "\n",
    "# Check your answer\n",
    "q2.check()"
   ]
  },
  {
   "cell_type": "code",
   "execution_count": 5,
   "id": "414b864a",
   "metadata": {
    "execution": {
     "iopub.execute_input": "2022-06-01T18:07:07.811670Z",
     "iopub.status.busy": "2022-06-01T18:07:07.810983Z",
     "iopub.status.idle": "2022-06-01T18:07:07.815163Z",
     "shell.execute_reply": "2022-06-01T18:07:07.814398Z"
    },
    "papermill": {
     "duration": 0.014344,
     "end_time": "2022-06-01T18:07:07.817064",
     "exception": false,
     "start_time": "2022-06-01T18:07:07.802720",
     "status": "completed"
    },
    "tags": []
   },
   "outputs": [],
   "source": [
    "# Uncomment to see a hint\n",
    "#q2.hint()\n",
    "\n",
    "# Uncomment to view the solution\n",
    "#q2.solution()"
   ]
  },
  {
   "cell_type": "markdown",
   "id": "a1612992",
   "metadata": {
    "papermill": {
     "duration": 0.006802,
     "end_time": "2022-06-01T18:07:07.831131",
     "exception": false,
     "start_time": "2022-06-01T18:07:07.824329",
     "status": "completed"
    },
    "tags": []
   },
   "source": [
    "# Question 3\n",
    "\n",
    "You're a home decorator, and you'd like to use Python to streamline some of your work.  Specifically, you're creating a tool that you intend to use to calculate the cost of painting a room.\n",
    "\n",
    "As a first step, define a function `get_cost()` that takes as input:\n",
    "- `sqft_walls` = total square feet of walls to be painted\n",
    "- `sqft_ceiling` = square feet of ceiling to be painted\n",
    "- `sqft_per_gallon` = number of square feet that you can cover with one gallon of paint\n",
    "- `cost_per_gallon` = cost (in dollars) of one gallon of paint\n",
    "\n",
    "It should return the cost (in dollars) of putting one coat of paint on all walls and the ceiling.  Assume you can buy the exact amount of paint that you need, so you can buy partial gallons (e.g., if you need 7.523 gallons, you can buy that exact amount, instead of needing to buy 8 gallons and waste some paint).  Do not round your answer."
   ]
  },
  {
   "cell_type": "code",
   "execution_count": 6,
   "id": "91e0e082",
   "metadata": {
    "execution": {
     "iopub.execute_input": "2022-06-01T18:07:07.847559Z",
     "iopub.status.busy": "2022-06-01T18:07:07.846853Z",
     "iopub.status.idle": "2022-06-01T18:07:07.856348Z",
     "shell.execute_reply": "2022-06-01T18:07:07.855681Z"
    },
    "papermill": {
     "duration": 0.020041,
     "end_time": "2022-06-01T18:07:07.858181",
     "exception": false,
     "start_time": "2022-06-01T18:07:07.838140",
     "status": "completed"
    },
    "tags": []
   },
   "outputs": [
    {
     "data": {
      "application/javascript": [
       "parent.postMessage({\"jupyterEvent\": \"custom.exercise_interaction\", \"data\": {\"outcomeType\": 1, \"valueTowardsCompletion\": 0.2, \"interactionType\": 1, \"questionType\": 2, \"questionId\": \"3_GetCostPaint\", \"learnToolsVersion\": \"0.3.4\", \"failureMessage\": \"\", \"exceptionClass\": \"\", \"trace\": \"\"}}, \"*\")"
      ],
      "text/plain": [
       "<IPython.core.display.Javascript object>"
      ]
     },
     "metadata": {},
     "output_type": "display_data"
    },
    {
     "data": {
      "text/markdown": [
       "<span style=\"color:#33cc33\">Correct</span>"
      ],
      "text/plain": [
       "Correct"
      ]
     },
     "metadata": {},
     "output_type": "display_data"
    }
   ],
   "source": [
    "# TODO: Finish defining the function\n",
    "def get_cost(sqft_walls, sqft_ceiling, sqft_per_gallon, cost_per_gallon):\n",
    "    cost = (sqft_walls + sqft_ceiling)/sqft_per_gallon * cost_per_gallon\n",
    "    return cost\n",
    "\n",
    "# Check your answer\n",
    "q3.check()"
   ]
  },
  {
   "cell_type": "code",
   "execution_count": 7,
   "id": "e82fe497",
   "metadata": {
    "execution": {
     "iopub.execute_input": "2022-06-01T18:07:07.875314Z",
     "iopub.status.busy": "2022-06-01T18:07:07.874609Z",
     "iopub.status.idle": "2022-06-01T18:07:07.879036Z",
     "shell.execute_reply": "2022-06-01T18:07:07.878196Z"
    },
    "papermill": {
     "duration": 0.015352,
     "end_time": "2022-06-01T18:07:07.881083",
     "exception": false,
     "start_time": "2022-06-01T18:07:07.865731",
     "status": "completed"
    },
    "tags": []
   },
   "outputs": [],
   "source": [
    "# Uncomment to see a hint\n",
    "#q3.hint()\n",
    "\n",
    "# Uncomment to view the solution\n",
    "#q3.solution()"
   ]
  },
  {
   "cell_type": "markdown",
   "id": "49f73dc7",
   "metadata": {
    "papermill": {
     "duration": 0.007082,
     "end_time": "2022-06-01T18:07:07.895622",
     "exception": false,
     "start_time": "2022-06-01T18:07:07.888540",
     "status": "completed"
    },
    "tags": []
   },
   "source": [
    "# Question 4\n",
    "\n",
    "Use the `get_cost()` function you defined in Question 3 to calculate the cost of applying one coat of paint to a room with:\n",
    "- 432 square feet of walls, and\n",
    "- 144 square feet of ceiling.\n",
    "\n",
    "Assume that one gallon of paint covers 400 square feet and costs $15.  As in Question 3, assume you can buy partial gallons of paint.  Do not round your answer."
   ]
  },
  {
   "cell_type": "code",
   "execution_count": 8,
   "id": "c17f2453",
   "metadata": {
    "execution": {
     "iopub.execute_input": "2022-06-01T18:07:07.912024Z",
     "iopub.status.busy": "2022-06-01T18:07:07.911613Z",
     "iopub.status.idle": "2022-06-01T18:07:07.920099Z",
     "shell.execute_reply": "2022-06-01T18:07:07.919278Z"
    },
    "papermill": {
     "duration": 0.018932,
     "end_time": "2022-06-01T18:07:07.922004",
     "exception": false,
     "start_time": "2022-06-01T18:07:07.903072",
     "status": "completed"
    },
    "tags": []
   },
   "outputs": [
    {
     "data": {
      "application/javascript": [
       "parent.postMessage({\"jupyterEvent\": \"custom.exercise_interaction\", \"data\": {\"outcomeType\": 1, \"valueTowardsCompletion\": 0.2, \"interactionType\": 1, \"questionType\": 1, \"questionId\": \"4_GetCostPaintExample\", \"learnToolsVersion\": \"0.3.4\", \"failureMessage\": \"\", \"exceptionClass\": \"\", \"trace\": \"\"}}, \"*\")"
      ],
      "text/plain": [
       "<IPython.core.display.Javascript object>"
      ]
     },
     "metadata": {},
     "output_type": "display_data"
    },
    {
     "data": {
      "text/markdown": [
       "<span style=\"color:#33cc33\">Correct</span>"
      ],
      "text/plain": [
       "Correct"
      ]
     },
     "metadata": {},
     "output_type": "display_data"
    }
   ],
   "source": [
    "# TODO: Set the project_cost variable to the cost of the project\n",
    "project_cost = get_cost(432, 144, 400, 15)\n",
    "\n",
    "# Check your answer\n",
    "q4.check()"
   ]
  },
  {
   "cell_type": "code",
   "execution_count": 9,
   "id": "d98e4064",
   "metadata": {
    "execution": {
     "iopub.execute_input": "2022-06-01T18:07:07.939238Z",
     "iopub.status.busy": "2022-06-01T18:07:07.938533Z",
     "iopub.status.idle": "2022-06-01T18:07:07.942717Z",
     "shell.execute_reply": "2022-06-01T18:07:07.942092Z"
    },
    "papermill": {
     "duration": 0.015,
     "end_time": "2022-06-01T18:07:07.944648",
     "exception": false,
     "start_time": "2022-06-01T18:07:07.929648",
     "status": "completed"
    },
    "tags": []
   },
   "outputs": [],
   "source": [
    "# Uncomment to see a hint\n",
    "#q4.hint()\n",
    "\n",
    "# Uncomment to view the solution\n",
    "#q4.solution()"
   ]
  },
  {
   "cell_type": "markdown",
   "id": "1f2fe9f0",
   "metadata": {
    "papermill": {
     "duration": 0.007379,
     "end_time": "2022-06-01T18:07:07.959802",
     "exception": false,
     "start_time": "2022-06-01T18:07:07.952423",
     "status": "completed"
    },
    "tags": []
   },
   "source": [
    "# 🌶️ Question 5\n",
    "\n",
    "Now say you can no longer buy fractions of a gallon.  (For instance, if you need 4.3 gallons to do a project, then you have to buy 5 gallons of paint.)\n",
    "\n",
    "With this new scenario, you will create a new function `get_actual_cost` that uses the same inputs and calculates the cost of your project.\n",
    "\n",
    "One function that you'll need to use to do this is `math.ceil()`.  We demonstrate usage of this function in the code cell below.  It takes as a number as input and rounds the number up to the nearest integer.  \n",
    "\n",
    "Run the next code cell to test this function for yourself.  Feel free to change the value of `test_value` and make sure `math.ceil()` returns the number you expect."
   ]
  },
  {
   "cell_type": "code",
   "execution_count": 10,
   "id": "34c5413f",
   "metadata": {
    "execution": {
     "iopub.execute_input": "2022-06-01T18:07:07.977541Z",
     "iopub.status.busy": "2022-06-01T18:07:07.976715Z",
     "iopub.status.idle": "2022-06-01T18:07:07.982848Z",
     "shell.execute_reply": "2022-06-01T18:07:07.981608Z"
    },
    "papermill": {
     "duration": 0.018038,
     "end_time": "2022-06-01T18:07:07.985523",
     "exception": false,
     "start_time": "2022-06-01T18:07:07.967485",
     "status": "completed"
    },
    "tags": []
   },
   "outputs": [
    {
     "name": "stdout",
     "output_type": "stream",
     "text": [
      "3\n"
     ]
    }
   ],
   "source": [
    "test_value = 2.17\n",
    "\n",
    "rounded_value = math.ceil(test_value)\n",
    "print(rounded_value)"
   ]
  },
  {
   "cell_type": "markdown",
   "id": "a285354f",
   "metadata": {
    "papermill": {
     "duration": 0.007379,
     "end_time": "2022-06-01T18:07:08.001402",
     "exception": false,
     "start_time": "2022-06-01T18:07:07.994023",
     "status": "completed"
    },
    "tags": []
   },
   "source": [
    "Use the next code cell to define the function `get_actual_cost()`.  You'll need to use the `math.ceil()` function to do this.\n",
    "\n",
    "When answering this question, note that it's completely valid to define a function that makes use of another function.  For instance, we can define a function `round_up_and_divide_by_three` that makes use of the `math.ceil` function:\n",
    "```\n",
    "def round_up_and_divide_by_three(num):\n",
    "    new_value = math.ceil(num)\n",
    "    final_value = new_value / 3\n",
    "    return final_value\n",
    "```"
   ]
  },
  {
   "cell_type": "code",
   "execution_count": 11,
   "id": "66602358",
   "metadata": {
    "execution": {
     "iopub.execute_input": "2022-06-01T18:07:08.018779Z",
     "iopub.status.busy": "2022-06-01T18:07:08.018090Z",
     "iopub.status.idle": "2022-06-01T18:07:08.027719Z",
     "shell.execute_reply": "2022-06-01T18:07:08.026719Z"
    },
    "papermill": {
     "duration": 0.020555,
     "end_time": "2022-06-01T18:07:08.029693",
     "exception": false,
     "start_time": "2022-06-01T18:07:08.009138",
     "status": "completed"
    },
    "tags": []
   },
   "outputs": [
    {
     "data": {
      "application/javascript": [
       "parent.postMessage({\"jupyterEvent\": \"custom.exercise_interaction\", \"data\": {\"outcomeType\": 1, \"valueTowardsCompletion\": 0.2, \"interactionType\": 1, \"questionType\": 2, \"questionId\": \"5_NoMoreFractions\", \"learnToolsVersion\": \"0.3.4\", \"failureMessage\": \"\", \"exceptionClass\": \"\", \"trace\": \"\"}}, \"*\")"
      ],
      "text/plain": [
       "<IPython.core.display.Javascript object>"
      ]
     },
     "metadata": {},
     "output_type": "display_data"
    },
    {
     "data": {
      "text/markdown": [
       "<span style=\"color:#33cc33\">Correct</span>"
      ],
      "text/plain": [
       "Correct"
      ]
     },
     "metadata": {},
     "output_type": "display_data"
    }
   ],
   "source": [
    "def get_actual_cost(sqft_walls, sqft_ceiling, sqft_per_gallon, cost_per_gallon):\n",
    "    total_sqft = sqft_walls + sqft_ceiling\n",
    "    gallons_needed = total_sqft / sqft_per_gallon\n",
    "    gallons_to_buy = math.ceil(gallons_needed)\n",
    "    cost = cost_per_gallon * gallons_to_buy\n",
    "    return cost\n",
    "\n",
    "# Check your answer\n",
    "q5.check()"
   ]
  },
  {
   "cell_type": "code",
   "execution_count": 12,
   "id": "a140c07b",
   "metadata": {
    "execution": {
     "iopub.execute_input": "2022-06-01T18:07:08.048617Z",
     "iopub.status.busy": "2022-06-01T18:07:08.047611Z",
     "iopub.status.idle": "2022-06-01T18:07:08.054495Z",
     "shell.execute_reply": "2022-06-01T18:07:08.053857Z"
    },
    "papermill": {
     "duration": 0.01804,
     "end_time": "2022-06-01T18:07:08.056327",
     "exception": false,
     "start_time": "2022-06-01T18:07:08.038287",
     "status": "completed"
    },
    "tags": []
   },
   "outputs": [
    {
     "data": {
      "application/javascript": [
       "parent.postMessage({\"jupyterEvent\": \"custom.exercise_interaction\", \"data\": {\"interactionType\": 3, \"questionType\": 2, \"questionId\": \"5_NoMoreFractions\", \"learnToolsVersion\": \"0.3.4\", \"valueTowardsCompletion\": 0.0, \"failureMessage\": \"\", \"exceptionClass\": \"\", \"trace\": \"\", \"outcomeType\": 4}}, \"*\")"
      ],
      "text/plain": [
       "<IPython.core.display.Javascript object>"
      ]
     },
     "metadata": {},
     "output_type": "display_data"
    },
    {
     "data": {
      "text/markdown": [
       "<span style=\"color:#33cc99\">Solution:</span> \n",
       "```python\n",
       "def get_actual_cost(sqft_walls, sqft_ceiling, sqft_per_gallon, cost_per_gallon):\n",
       "    total_sqft = sqft_walls + sqft_ceiling\n",
       "    gallons_needed = total_sqft / sqft_per_gallon\n",
       "    gallons_to_buy = math.ceil(gallons_needed)\n",
       "    cost = cost_per_gallon * gallons_to_buy\n",
       "    return cost\n",
       "\n",
       "```"
      ],
      "text/plain": [
       "Solution: \n",
       "```python\n",
       "def get_actual_cost(sqft_walls, sqft_ceiling, sqft_per_gallon, cost_per_gallon):\n",
       "    total_sqft = sqft_walls + sqft_ceiling\n",
       "    gallons_needed = total_sqft / sqft_per_gallon\n",
       "    gallons_to_buy = math.ceil(gallons_needed)\n",
       "    cost = cost_per_gallon * gallons_to_buy\n",
       "    return cost\n",
       "\n",
       "```"
      ]
     },
     "metadata": {},
     "output_type": "display_data"
    }
   ],
   "source": [
    "# Uncomment to see a hint\n",
    "#q5.hint()\n",
    "\n",
    "# Uncomment to view the solution\n",
    "q5.solution()"
   ]
  },
  {
   "cell_type": "markdown",
   "id": "38faed62",
   "metadata": {
    "papermill": {
     "duration": 0.008065,
     "end_time": "2022-06-01T18:07:08.072642",
     "exception": false,
     "start_time": "2022-06-01T18:07:08.064577",
     "status": "completed"
    },
    "tags": []
   },
   "source": [
    "Once your function is verified as correct, run the next code cell to calculate the updated cost of your project."
   ]
  },
  {
   "cell_type": "code",
   "execution_count": 13,
   "id": "88ee02ef",
   "metadata": {
    "execution": {
     "iopub.execute_input": "2022-06-01T18:07:08.091278Z",
     "iopub.status.busy": "2022-06-01T18:07:08.090757Z",
     "iopub.status.idle": "2022-06-01T18:07:08.095861Z",
     "shell.execute_reply": "2022-06-01T18:07:08.095202Z"
    },
    "papermill": {
     "duration": 0.01654,
     "end_time": "2022-06-01T18:07:08.097646",
     "exception": false,
     "start_time": "2022-06-01T18:07:08.081106",
     "status": "completed"
    },
    "tags": []
   },
   "outputs": [
    {
     "data": {
      "text/plain": [
       "30"
      ]
     },
     "execution_count": 13,
     "metadata": {},
     "output_type": "execute_result"
    }
   ],
   "source": [
    "get_actual_cost(432, 144, 400, 15) "
   ]
  },
  {
   "cell_type": "markdown",
   "id": "9d723620",
   "metadata": {
    "papermill": {
     "duration": 0.008204,
     "end_time": "2022-06-01T18:07:08.114387",
     "exception": false,
     "start_time": "2022-06-01T18:07:08.106183",
     "status": "completed"
    },
    "tags": []
   },
   "source": [
    "Say you're working with a slightly larger room.  Run the next code cell to calculate the cost of the project."
   ]
  },
  {
   "cell_type": "code",
   "execution_count": 14,
   "id": "9a863ee7",
   "metadata": {
    "execution": {
     "iopub.execute_input": "2022-06-01T18:07:08.133646Z",
     "iopub.status.busy": "2022-06-01T18:07:08.133010Z",
     "iopub.status.idle": "2022-06-01T18:07:08.139112Z",
     "shell.execute_reply": "2022-06-01T18:07:08.138158Z"
    },
    "papermill": {
     "duration": 0.018024,
     "end_time": "2022-06-01T18:07:08.141049",
     "exception": false,
     "start_time": "2022-06-01T18:07:08.123025",
     "status": "completed"
    },
    "tags": []
   },
   "outputs": [
    {
     "data": {
      "text/plain": [
       "45"
      ]
     },
     "execution_count": 14,
     "metadata": {},
     "output_type": "execute_result"
    }
   ],
   "source": [
    "get_actual_cost(594, 288, 400, 15) "
   ]
  },
  {
   "cell_type": "markdown",
   "id": "1b8cd26a",
   "metadata": {
    "papermill": {
     "duration": 0.008351,
     "end_time": "2022-06-01T18:07:08.158228",
     "exception": false,
     "start_time": "2022-06-01T18:07:08.149877",
     "status": "completed"
    },
    "tags": []
   },
   "source": [
    "# Keep going\n",
    "\n",
    "Continue to learn about **[data types](https://www.kaggle.com/alexisbcook/data-types)**."
   ]
  },
  {
   "cell_type": "markdown",
   "id": "6a1e2817",
   "metadata": {
    "papermill": {
     "duration": 0.008406,
     "end_time": "2022-06-01T18:07:08.175491",
     "exception": false,
     "start_time": "2022-06-01T18:07:08.167085",
     "status": "completed"
    },
    "tags": []
   },
   "source": [
    "---\n",
    "\n",
    "\n",
    "\n",
    "\n",
    "*Have questions or comments? Visit the [course discussion forum](https://www.kaggle.com/learn/intro-to-programming/discussion) to chat with other learners.*"
   ]
  }
 ],
 "metadata": {
  "kernelspec": {
   "display_name": "Python 3",
   "language": "python",
   "name": "python3"
  },
  "language_info": {
   "codemirror_mode": {
    "name": "ipython",
    "version": 3
   },
   "file_extension": ".py",
   "mimetype": "text/x-python",
   "name": "python",
   "nbconvert_exporter": "python",
   "pygments_lexer": "ipython3",
   "version": "3.7.12"
  },
  "papermill": {
   "default_parameters": {},
   "duration": 11.001451,
   "end_time": "2022-06-01T18:07:08.804216",
   "environment_variables": {},
   "exception": null,
   "input_path": "__notebook__.ipynb",
   "output_path": "__notebook__.ipynb",
   "parameters": {},
   "start_time": "2022-06-01T18:06:57.802765",
   "version": "2.3.4"
  }
 },
 "nbformat": 4,
 "nbformat_minor": 5
}
