{
 "cells": [
  {
   "cell_type": "markdown",
   "id": "5e887dcc",
   "metadata": {
    "papermill": {
     "duration": 0.011774,
     "end_time": "2022-06-01T19:49:14.732749",
     "exception": false,
     "start_time": "2022-06-01T19:49:14.720975",
     "status": "completed"
    },
    "tags": []
   },
   "source": [
    "**This notebook is an exercise in the [Intro to Programming](https://www.kaggle.com/learn/intro-to-programming) course.  You can reference the tutorial at [this link](https://www.kaggle.com/alexisbcook/conditions-and-conditional-statements).**\n",
    "\n",
    "---\n"
   ]
  },
  {
   "cell_type": "markdown",
   "id": "779f3cc6",
   "metadata": {
    "papermill": {
     "duration": 0.007454,
     "end_time": "2022-06-01T19:49:14.748114",
     "exception": false,
     "start_time": "2022-06-01T19:49:14.740660",
     "status": "completed"
    },
    "tags": []
   },
   "source": [
    "In the tutorial, you learned about conditions and conditional statements. In this exercise, you will use what you learned to answer several questions.\n",
    "\n",
    "# Set up the notebook\n",
    "\n",
    "Run the next code cell without changes to set up the notebook."
   ]
  },
  {
   "cell_type": "code",
   "execution_count": 1,
   "id": "1bc30c8f",
   "metadata": {
    "execution": {
     "iopub.execute_input": "2022-06-01T19:49:14.766171Z",
     "iopub.status.busy": "2022-06-01T19:49:14.765328Z",
     "iopub.status.idle": "2022-06-01T19:49:14.824511Z",
     "shell.execute_reply": "2022-06-01T19:49:14.823431Z"
    },
    "papermill": {
     "duration": 0.071476,
     "end_time": "2022-06-01T19:49:14.827326",
     "exception": false,
     "start_time": "2022-06-01T19:49:14.755850",
     "status": "completed"
    },
    "tags": []
   },
   "outputs": [
    {
     "name": "stdout",
     "output_type": "stream",
     "text": [
      "Setup complete.\n"
     ]
    }
   ],
   "source": [
    "from learntools.core import binder\n",
    "binder.bind(globals())\n",
    "from learntools.intro_to_programming.ex4 import *\n",
    "print('Setup complete.')"
   ]
  },
  {
   "cell_type": "markdown",
   "id": "7fb666cc",
   "metadata": {
    "papermill": {
     "duration": 0.008024,
     "end_time": "2022-06-01T19:49:14.843442",
     "exception": false,
     "start_time": "2022-06-01T19:49:14.835418",
     "status": "completed"
    },
    "tags": []
   },
   "source": [
    "# Question 1\n",
    "\n",
    "You work at a college admissions office.  When inspecting a dataset of college applicants, you notice that some students have represented their grades with letters (`\"A\"`, `\"B\"`, `\"C\"`, `\"D\"`, `\"F\"`), whereas others have represented their grades with a number between 0 and 100.\n",
    "\n",
    "You realize that for consistency, all of the grades should be formatted in the same way, and you decide to format them all as letters.  For the conversion, you decide to assign:\n",
    "- `\"A\"` - any grade 90-100, inclusive\n",
    "- `\"B\"` - any grade 80-89, inclusive\n",
    "- `\"C\"` - any grade 70-79, inclusive\n",
    "- `\"D\"` - any grade 60-69, inclusive\n",
    "- `\"F\"` - any grade <60\n",
    "\n",
    "Write a function `get_grade()` that takes as input:\n",
    "- `score` - an integer 0-100 corresponding to a numerical grade\n",
    "\n",
    "It should return a Python string with the letter grade that it corresponds to.  For instance,\n",
    "- A score of 85 corresponds to a B grade.  In other words, `get_grade(85)` should return `\"B\"`.\n",
    "- A score of 49 corresponds to an F grade.  In other words, `get_grade(49)` should return `\"F\"`.\n",
    "\n",
    "Make sure that when supplying the grade that is returned by the function, it is enclosed in quotes.  (For instance, if you want to return `\"A\"`, you should write `return \"A\"` and not `return A`.)"
   ]
  },
  {
   "cell_type": "code",
   "execution_count": 2,
   "id": "f30ffcef",
   "metadata": {
    "execution": {
     "iopub.execute_input": "2022-06-01T19:49:14.861731Z",
     "iopub.status.busy": "2022-06-01T19:49:14.861311Z",
     "iopub.status.idle": "2022-06-01T19:49:14.875017Z",
     "shell.execute_reply": "2022-06-01T19:49:14.873988Z"
    },
    "papermill": {
     "duration": 0.026457,
     "end_time": "2022-06-01T19:49:14.877957",
     "exception": false,
     "start_time": "2022-06-01T19:49:14.851500",
     "status": "completed"
    },
    "tags": []
   },
   "outputs": [
    {
     "data": {
      "application/javascript": [
       "parent.postMessage({\"jupyterEvent\": \"custom.exercise_interaction\", \"data\": {\"outcomeType\": 1, \"valueTowardsCompletion\": 0.2, \"interactionType\": 1, \"questionType\": 2, \"questionId\": \"1_GetGrade\", \"learnToolsVersion\": \"0.3.4\", \"failureMessage\": \"\", \"exceptionClass\": \"\", \"trace\": \"\"}}, \"*\")"
      ],
      "text/plain": [
       "<IPython.core.display.Javascript object>"
      ]
     },
     "metadata": {},
     "output_type": "display_data"
    },
    {
     "data": {
      "text/markdown": [
       "<span style=\"color:#33cc33\">Correct</span>"
      ],
      "text/plain": [
       "Correct"
      ]
     },
     "metadata": {},
     "output_type": "display_data"
    }
   ],
   "source": [
    "# TODO: Edit the function to return the correct grade for different scores\n",
    "def get_grade(score):\n",
    "    grade = \"\"\n",
    "    if score >=90:\n",
    "        grade = \"A\"\n",
    "    elif score >=80:\n",
    "        grade = \"B\"\n",
    "    elif score >=70:\n",
    "        grade = \"C\"\n",
    "    elif score >=60:\n",
    "        grade = \"D\"   \n",
    "    else:\n",
    "        grade = \"F\"\n",
    "\n",
    "\n",
    "    return grade\n",
    "    \n",
    "# Check your answer\n",
    "q1.check()"
   ]
  },
  {
   "cell_type": "code",
   "execution_count": 3,
   "id": "578ff96d",
   "metadata": {
    "execution": {
     "iopub.execute_input": "2022-06-01T19:49:14.896836Z",
     "iopub.status.busy": "2022-06-01T19:49:14.896439Z",
     "iopub.status.idle": "2022-06-01T19:49:14.900846Z",
     "shell.execute_reply": "2022-06-01T19:49:14.899711Z"
    },
    "papermill": {
     "duration": 0.016166,
     "end_time": "2022-06-01T19:49:14.902899",
     "exception": false,
     "start_time": "2022-06-01T19:49:14.886733",
     "status": "completed"
    },
    "tags": []
   },
   "outputs": [],
   "source": [
    "# Uncomment to see a hint\n",
    "#q1.hint()\n",
    "\n",
    "# Uncomment to see the solution\n",
    "#q1.solution()"
   ]
  },
  {
   "cell_type": "markdown",
   "id": "e5e4da0f",
   "metadata": {
    "papermill": {
     "duration": 0.008191,
     "end_time": "2022-06-01T19:49:14.920226",
     "exception": false,
     "start_time": "2022-06-01T19:49:14.912035",
     "status": "completed"
    },
    "tags": []
   },
   "source": [
    "# Question 2\n",
    "\n",
    "In the exercise for the previous lesson, you wrote a function `cost_of_project()` that estimated the price of rings for an online shop that sells rings with custom engravings.  This function did not use conditional statements.  In this exercise, you will rewrite the function to use conditional statements.  Recall that the online shop has the following price structure:\n",
    "- Gold plated rings have a base cost of \\\\$50, and you charge \\\\$7 per engraved unit.  \n",
    "- Solid gold rings have a base cost of \\\\$100, and you charge \\\\$10 per engraved unit.\n",
    "- Spaces and punctuation are counted as engraved units.\n",
    "\n",
    "Your function `cost_of_project()` takes two arguments:\n",
    "- `engraving` - a Python string with the text of the engraving\n",
    "- `solid_gold` - a Boolean that indicates whether the ring is solid gold\n",
    "\n",
    "It should return the cost of the project.  \n",
    "\n",
    "The function has been partially completed for you, and you need to fill in the blanks to complete the function."
   ]
  },
  {
   "cell_type": "code",
   "execution_count": 4,
   "id": "5e81f626",
   "metadata": {
    "execution": {
     "iopub.execute_input": "2022-06-01T19:49:14.938451Z",
     "iopub.status.busy": "2022-06-01T19:49:14.937818Z",
     "iopub.status.idle": "2022-06-01T19:49:14.948739Z",
     "shell.execute_reply": "2022-06-01T19:49:14.947626Z"
    },
    "papermill": {
     "duration": 0.022614,
     "end_time": "2022-06-01T19:49:14.950985",
     "exception": false,
     "start_time": "2022-06-01T19:49:14.928371",
     "status": "completed"
    },
    "tags": []
   },
   "outputs": [
    {
     "data": {
      "application/javascript": [
       "parent.postMessage({\"jupyterEvent\": \"custom.exercise_interaction\", \"data\": {\"outcomeType\": 1, \"valueTowardsCompletion\": 0.2, \"interactionType\": 1, \"questionType\": 2, \"questionId\": \"2_CostProjectPartDeux\", \"learnToolsVersion\": \"0.3.4\", \"failureMessage\": \"\", \"exceptionClass\": \"\", \"trace\": \"\"}}, \"*\")"
      ],
      "text/plain": [
       "<IPython.core.display.Javascript object>"
      ]
     },
     "metadata": {},
     "output_type": "display_data"
    },
    {
     "data": {
      "text/markdown": [
       "<span style=\"color:#33cc33\">Correct</span>"
      ],
      "text/plain": [
       "Correct"
      ]
     },
     "metadata": {},
     "output_type": "display_data"
    }
   ],
   "source": [
    "def cost_of_project(engraving, solid_gold):\n",
    "    if solid_gold == True:\n",
    "        cost = 100 + (len(engraving) * 10)\n",
    "    else:\n",
    "        cost = 50 + (len(engraving) * 7)\n",
    "    return cost\n",
    "\n",
    "# Check your answer\n",
    "q2.check()"
   ]
  },
  {
   "cell_type": "code",
   "execution_count": 5,
   "id": "2a9a8dd3",
   "metadata": {
    "execution": {
     "iopub.execute_input": "2022-06-01T19:49:14.970566Z",
     "iopub.status.busy": "2022-06-01T19:49:14.970061Z",
     "iopub.status.idle": "2022-06-01T19:49:14.974749Z",
     "shell.execute_reply": "2022-06-01T19:49:14.973615Z"
    },
    "papermill": {
     "duration": 0.017056,
     "end_time": "2022-06-01T19:49:14.977326",
     "exception": false,
     "start_time": "2022-06-01T19:49:14.960270",
     "status": "completed"
    },
    "tags": []
   },
   "outputs": [],
   "source": [
    "# Uncomment to see a hint\n",
    "#q2.hint()\n",
    "\n",
    "# Uncomment to see the solution\n",
    "#q2.solution()"
   ]
  },
  {
   "cell_type": "markdown",
   "id": "7bded1aa",
   "metadata": {
    "papermill": {
     "duration": 0.008233,
     "end_time": "2022-06-01T19:49:14.994225",
     "exception": false,
     "start_time": "2022-06-01T19:49:14.985992",
     "status": "completed"
    },
    "tags": []
   },
   "source": [
    "# Question 3\n",
    "\n",
    "You are a programmer at a water agency.  Recently, you have been tasked to write a function `get_water_bill()` that takes as input:\n",
    "- `num_gallons` = the number of gallons of water that a customer used that month.  (This will always be an integer with no decimal part.)\n",
    "\n",
    "It should output the water bill.  \n",
    "\n",
    "The water agency uses this pricing structure:\n",
    "<table style=\"width: 100%;\">\n",
    "<tbody>\n",
    "<tr><th><b>Tier</b></th><th><b>Amount in gallons</b></th><th><b>Price per 1000 gallons</b></th></tr>\n",
    "<tr>\n",
    "<td>Tier 1</td>\n",
    "<td>0 - 8,000</td>\n",
    "<td>\\$5</td>\n",
    "</tr>\n",
    "<tr>\n",
    "<td>Tier 2</td>\n",
    "<td>8,001 - 22,000</td>\n",
    "<td>\\$6</td>\n",
    "</tr>\n",
    "<tr>\n",
    "<td>Tier 3</td>\n",
    "<td>22,001 - 30,000</td>\n",
    "<td>\\$7</td>\n",
    "</tr>\n",
    "<tr>\n",
    "<td>Tier 4</td>\n",
    "<td>30,001+</td>\n",
    "<td>\\$10</td>\n",
    "</tr>\n",
    "</tbody>\n",
    "</table>\n",
    "\n",
    "For example: \n",
    "- Someone who uses 10,000 gallons of water in a month is placed in Tier 2, and needs to pay a water bill of \\\\$6 * 10 = \\\\$60.  In other words, `get_water_bill(10000)` should return `60.0`.\n",
    "- Someone who uses 25,000 gallons of water in a month is placed in Tier 3, and needs to pay a water bill of \\\\$7 * 25 = \\\\$175.  In other words, `get_water_bill(25000)` should return `175.0`.\n",
    "\n",
    "**Do not round your answer.**  So, your answer might return fractions of a penny."
   ]
  },
  {
   "cell_type": "code",
   "execution_count": 6,
   "id": "219c45c0",
   "metadata": {
    "execution": {
     "iopub.execute_input": "2022-06-01T19:49:15.013307Z",
     "iopub.status.busy": "2022-06-01T19:49:15.012875Z",
     "iopub.status.idle": "2022-06-01T19:49:15.023498Z",
     "shell.execute_reply": "2022-06-01T19:49:15.022510Z"
    },
    "papermill": {
     "duration": 0.022513,
     "end_time": "2022-06-01T19:49:15.025546",
     "exception": false,
     "start_time": "2022-06-01T19:49:15.003033",
     "status": "completed"
    },
    "tags": []
   },
   "outputs": [
    {
     "data": {
      "application/javascript": [
       "parent.postMessage({\"jupyterEvent\": \"custom.exercise_interaction\", \"data\": {\"outcomeType\": 1, \"valueTowardsCompletion\": 0.2, \"interactionType\": 1, \"questionType\": 2, \"questionId\": \"3_GetWaterBill\", \"learnToolsVersion\": \"0.3.4\", \"failureMessage\": \"\", \"exceptionClass\": \"\", \"trace\": \"\"}}, \"*\")"
      ],
      "text/plain": [
       "<IPython.core.display.Javascript object>"
      ]
     },
     "metadata": {},
     "output_type": "display_data"
    },
    {
     "data": {
      "text/markdown": [
       "<span style=\"color:#33cc33\">Correct</span>"
      ],
      "text/plain": [
       "Correct"
      ]
     },
     "metadata": {},
     "output_type": "display_data"
    }
   ],
   "source": [
    "# TODO: Edit the function to return the correct bill for different\n",
    "# values of num_gallons\n",
    "def get_water_bill(num_gallons):\n",
    "    bill = 0\n",
    "    if num_gallons <= 8000:\n",
    "        bill = num_gallons/1000 * 5\n",
    "    elif num_gallons <= 22000:\n",
    "        bill = num_gallons/1000 * 6\n",
    "    elif num_gallons <= 30000:\n",
    "        bill = num_gallons/1000 * 7\n",
    "    else:\n",
    "        bill = num_gallons/1000 * 10\n",
    "    return bill\n",
    "\n",
    "# Check your answer\n",
    "q3.check()"
   ]
  },
  {
   "cell_type": "code",
   "execution_count": 7,
   "id": "b649b219",
   "metadata": {
    "execution": {
     "iopub.execute_input": "2022-06-01T19:49:15.045700Z",
     "iopub.status.busy": "2022-06-01T19:49:15.045098Z",
     "iopub.status.idle": "2022-06-01T19:49:15.049700Z",
     "shell.execute_reply": "2022-06-01T19:49:15.048528Z"
    },
    "papermill": {
     "duration": 0.017178,
     "end_time": "2022-06-01T19:49:15.052019",
     "exception": false,
     "start_time": "2022-06-01T19:49:15.034841",
     "status": "completed"
    },
    "tags": []
   },
   "outputs": [],
   "source": [
    "# Uncomment to see a hint\n",
    "#q3.hint()\n",
    "\n",
    "# Uncomment to see the solution\n",
    "#q3.solution()"
   ]
  },
  {
   "cell_type": "markdown",
   "id": "3a5acd77",
   "metadata": {
    "papermill": {
     "duration": 0.008299,
     "end_time": "2022-06-01T19:49:15.069044",
     "exception": false,
     "start_time": "2022-06-01T19:49:15.060745",
     "status": "completed"
    },
    "tags": []
   },
   "source": [
    "# Question 4\n",
    "\n",
    "You work for a company that provides data services.  For \\\\$100/month, your company provides 15 gigabytes (GB) of data.  Then, any additional data is billed at \\\\$0.10/MB (or \\\\$100/GB, since 1,000 MB are in 1 GB).\n",
    "\n",
    "Use the next code cell to write a function `get_phone_bill()` that takes as input:\n",
    "- `gb` = number of GB that the customer used in a month\n",
    "\n",
    "It should return the customer's total phone bill.\n",
    "\n",
    "For instance:\n",
    "- A customer who uses 10 GB of data in one month is billed only \\\\$100, since the usage stayed under 15 GB.  In other words, `get_phone_bill(10)` should return `100`.\n",
    "- A customer who uses 15.1 GB (or 15 GB + 100 MB) of data in one month has gone over by .1 GB, so they must pay \\\\$100 (cost of plan), plus \\\\$0.10 * 100 = \\\\$10, for a total bill of \\\\$110.  In other words, `get_phone_bill(15.1)` should return `110`.\n",
    "\n",
    "Do not round your answer."
   ]
  },
  {
   "cell_type": "code",
   "execution_count": 8,
   "id": "81be820a",
   "metadata": {
    "execution": {
     "iopub.execute_input": "2022-06-01T19:49:15.089384Z",
     "iopub.status.busy": "2022-06-01T19:49:15.088975Z",
     "iopub.status.idle": "2022-06-01T19:49:15.097010Z",
     "shell.execute_reply": "2022-06-01T19:49:15.096294Z"
    },
    "papermill": {
     "duration": 0.021364,
     "end_time": "2022-06-01T19:49:15.099858",
     "exception": false,
     "start_time": "2022-06-01T19:49:15.078494",
     "status": "completed"
    },
    "tags": []
   },
   "outputs": [
    {
     "data": {
      "application/javascript": [
       "parent.postMessage({\"jupyterEvent\": \"custom.exercise_interaction\", \"data\": {\"outcomeType\": 1, \"valueTowardsCompletion\": 0.2, \"interactionType\": 1, \"questionType\": 2, \"questionId\": \"4_GetPhoneBill\", \"learnToolsVersion\": \"0.3.4\", \"failureMessage\": \"\", \"exceptionClass\": \"\", \"trace\": \"\"}}, \"*\")"
      ],
      "text/plain": [
       "<IPython.core.display.Javascript object>"
      ]
     },
     "metadata": {},
     "output_type": "display_data"
    },
    {
     "data": {
      "text/markdown": [
       "<span style=\"color:#33cc33\">Correct</span>"
      ],
      "text/plain": [
       "Correct"
      ]
     },
     "metadata": {},
     "output_type": "display_data"
    }
   ],
   "source": [
    "# TODO: Edit the function to return the correct bill for different\n",
    "# values of GB\n",
    "def get_phone_bill(gb):\n",
    "    if gb <=15:\n",
    "        bill = 100\n",
    "    else:\n",
    "        bill = 100 + (gb-15)*100\n",
    "    return bill\n",
    "\n",
    "# Check your answer\n",
    "q4.check()"
   ]
  },
  {
   "cell_type": "code",
   "execution_count": 9,
   "id": "b773e6f9",
   "metadata": {
    "execution": {
     "iopub.execute_input": "2022-06-01T19:49:15.120026Z",
     "iopub.status.busy": "2022-06-01T19:49:15.119427Z",
     "iopub.status.idle": "2022-06-01T19:49:15.123555Z",
     "shell.execute_reply": "2022-06-01T19:49:15.122709Z"
    },
    "papermill": {
     "duration": 0.016638,
     "end_time": "2022-06-01T19:49:15.125637",
     "exception": false,
     "start_time": "2022-06-01T19:49:15.108999",
     "status": "completed"
    },
    "tags": []
   },
   "outputs": [],
   "source": [
    "# Uncomment to see a hint\n",
    "#q4.hint()\n",
    "\n",
    "# Uncomment to see the solution\n",
    "#q4.solution()"
   ]
  },
  {
   "cell_type": "markdown",
   "id": "8e2e0f13",
   "metadata": {
    "papermill": {
     "duration": 0.008625,
     "end_time": "2022-06-01T19:49:15.143142",
     "exception": false,
     "start_time": "2022-06-01T19:49:15.134517",
     "status": "completed"
    },
    "tags": []
   },
   "source": [
    "# 🌶️ Question 5\n",
    "\n",
    "In Mexico, foods and beverages that are high in saturated fat, trans fat, sugar, sodium, and/or calories appear with warning labels that are designed to help consumers make healthy food choices.\n",
    "\n",
    "For instance, the [box of cookies](https://world.openfoodfacts.org/product/7501000673209/florentinas-gamesa) in the image below appears with two labels (in the upper right corner):\n",
    "- EXCESO CALORÍAS (in English, EXCESS CALORIES)\n",
    "- EXCESO AZÚCARES (in English, EXCESS SUGAR)\n",
    "\n",
    "<center><img src=\"https://i.imgur.com/VXYKHnM.png\" alt=\"drawing\" width=\"500\"/></center>\n",
    "\n",
    "In this question, you'll work with a function `get_labels()` that takes the nutritional details about a food item and prints the needed warning labels.  This function takes several inputs:\n",
    "- `food_type` = one of `\"solid\"` or `\"liquid\"`\n",
    "- `serving_size` = size of one serving (if solid, in grams; if liquid, in milliliters)\n",
    "- `calories_per_serving` = calories in one serving\n",
    "- `saturated_fat_g` = grams of saturated fat in one serving\n",
    "- `trans_fat_g` = grams of trans fat in one serving\n",
    "- `sodium_mg` = mg of sodium in one serving\n",
    "- `sugars_g` = grams of sugar in one serving\n",
    "\n",
    "Note that some of the code here should feel unfamiliar to you, since we have not shared the details of how some of the functions like `excess_sugar()` or `excess_saturated_fat()` work.  But at a high level, these are functions that return a value of `True` if the food is deemed to have an excess of sugar or saturated fat, respectively.  These functions are used within the `get_labels()` function, and whenever there is an excess (of sugar or saturated fat, but also of trans fat, sodium, or calories), it prints the corresponding label."
   ]
  },
  {
   "cell_type": "code",
   "execution_count": 10,
   "id": "4d0940f0",
   "metadata": {
    "execution": {
     "iopub.execute_input": "2022-06-01T19:49:15.162988Z",
     "iopub.status.busy": "2022-06-01T19:49:15.162586Z",
     "iopub.status.idle": "2022-06-01T19:49:15.177900Z",
     "shell.execute_reply": "2022-06-01T19:49:15.176840Z"
    },
    "papermill": {
     "duration": 0.028007,
     "end_time": "2022-06-01T19:49:15.180089",
     "exception": false,
     "start_time": "2022-06-01T19:49:15.152082",
     "status": "completed"
    },
    "tags": []
   },
   "outputs": [],
   "source": [
    "# import functions needed to make get_labels work\n",
    "from learntools.intro_to_programming.ex4q5 import excess_sugar, excess_saturated_fat, excess_trans_fat, excess_sodium, excess_calories\n",
    "\n",
    "def get_labels(food_type, serving_size, calories_per_serving, saturated_fat_g, trans_fat_g, sodium_mg, sugars_g):\n",
    "    # Print messages based on findings\n",
    "    if excess_sugar(sugars_g, calories_per_serving) == True:\n",
    "        print(\"EXCESO AZÚCARES / EXCESS SUGAR\")\n",
    "    if excess_saturated_fat(saturated_fat_g, calories_per_serving) == True:\n",
    "        print(\"EXCESO GRASAS SATURADAS / EXCESS SATURATED FAT\")\n",
    "    if excess_trans_fat(trans_fat_g, calories_per_serving) == True:\n",
    "        print(\"EXCESO GRASAS TRANS / EXCESS TRANS FAT\")\n",
    "    if excess_sodium(calories_per_serving, sodium_mg) == True:\n",
    "        print(\"EXCESO SODIO / EXCESS SODIUM\")\n",
    "    if excess_calories(food_type, calories_per_serving, serving_size) == True:\n",
    "        print(\"EXCESO CALORÍAS / EXCESS CALORIES\")"
   ]
  },
  {
   "cell_type": "markdown",
   "id": "33679181",
   "metadata": {
    "papermill": {
     "duration": 0.00877,
     "end_time": "2022-06-01T19:49:15.197812",
     "exception": false,
     "start_time": "2022-06-01T19:49:15.189042",
     "status": "completed"
    },
    "tags": []
   },
   "source": [
    "The next code cell demonstrates how to use `get_labels()` to get the warning labels that the food item should contain.  We begin with [bologna](https://world.openfoodfacts.org/product/4099100179378/bologna).  Here is [an image](https://imgur.com/Cfcx72e) with all of the nutritional information.  Note that for this food,\n",
    "- `food_type = \"solid\"` (because bologna is a solid and not a liquid)\n",
    "- `serving_size = 32` (the serving size is 32 grams)\n",
    "- `calories_per_serving = 110` (there are 110 calories per serving)\n",
    "- `saturated_fat_g = 2.5` (there are 2.5 grams of saturated fat per serving)\n",
    "- `trans_fat_g = 0` (there are 0 grams of trans fat per serving)\n",
    "- `sodium_mg = 400` (there are 400 mg of sodium per serving)\n",
    "- `sugars_g = 1` (the nutrition facts say <1g, but we will round it up to 1 gram per serving to be safe)\n",
    "\n",
    "By supplying all of these values to the function, we can print the warning labels."
   ]
  },
  {
   "cell_type": "code",
   "execution_count": 11,
   "id": "dfd59cb5",
   "metadata": {
    "execution": {
     "iopub.execute_input": "2022-06-01T19:49:15.219131Z",
     "iopub.status.busy": "2022-06-01T19:49:15.218217Z",
     "iopub.status.idle": "2022-06-01T19:49:15.223747Z",
     "shell.execute_reply": "2022-06-01T19:49:15.222561Z"
    },
    "papermill": {
     "duration": 0.018252,
     "end_time": "2022-06-01T19:49:15.226148",
     "exception": false,
     "start_time": "2022-06-01T19:49:15.207896",
     "status": "completed"
    },
    "tags": []
   },
   "outputs": [
    {
     "name": "stdout",
     "output_type": "stream",
     "text": [
      "EXCESO GRASAS SATURADAS / EXCESS SATURATED FAT\n",
      "EXCESO SODIO / EXCESS SODIUM\n",
      "EXCESO CALORÍAS / EXCESS CALORIES\n"
     ]
    }
   ],
   "source": [
    "# bologna https://world.openfoodfacts.org/product/4099100179378/bologna\n",
    "get_labels(\"solid\", 14, 110, 2.5, 0, 400, 1)"
   ]
  },
  {
   "cell_type": "markdown",
   "id": "f71399d4",
   "metadata": {
    "papermill": {
     "duration": 0.009638,
     "end_time": "2022-06-01T19:49:15.245678",
     "exception": false,
     "start_time": "2022-06-01T19:49:15.236040",
     "status": "completed"
    },
    "tags": []
   },
   "source": [
    "This bologna has three labels, printed in the output above.\n",
    "\n",
    "For the rest of this question, you will use the same `get_labels()` function to determine the labels for more foods.  This question is designed to help you get practice with feeling comfortable with code that other people have written, and where you don't have time to review every single line of code before interacting with it.  For instance, when you take the [Intro to Machine Learning course](http://www.kaggle.com/learn/intro-to-machine-learning), you'll work with a Python package called \"scikit-learn\", which is a large collection of code that you'll learn how to run without reviewing all of the code in detail (as it would take too long, and you can trust that it was implemented correctly).\n",
    "\n",
    "In general, as you continue coding in Python, you will often be running code that other people have written.  This is common practice for advanced programmers.\n",
    "\n",
    "In the next code cell, fill in the values for [this cereal](https://world.openfoodfacts.org/product/7501008023624/zucaritas-kellogg-s).  Here is [an image](https://imgur.com/a/MUxzHVU) with all of the nutritional information.\n",
    "\n",
    "**Note**: running the line of code below as-is will return an error.  You have to fill in the nutritional values first."
   ]
  },
  {
   "cell_type": "code",
   "execution_count": 12,
   "id": "55f4604b",
   "metadata": {
    "execution": {
     "iopub.execute_input": "2022-06-01T19:49:15.266363Z",
     "iopub.status.busy": "2022-06-01T19:49:15.265252Z",
     "iopub.status.idle": "2022-06-01T19:49:15.271101Z",
     "shell.execute_reply": "2022-06-01T19:49:15.269832Z"
    },
    "papermill": {
     "duration": 0.019315,
     "end_time": "2022-06-01T19:49:15.274167",
     "exception": false,
     "start_time": "2022-06-01T19:49:15.254852",
     "status": "completed"
    },
    "tags": []
   },
   "outputs": [
    {
     "name": "stdout",
     "output_type": "stream",
     "text": [
      "EXCESO AZÚCARES / EXCESS SUGAR\n",
      "EXCESO SODIO / EXCESS SODIUM\n",
      "EXCESO CALORÍAS / EXCESS CALORIES\n"
     ]
    }
   ],
   "source": [
    "# zucaritas cereal https://world.openfoodfacts.org/product/7501008023624/zucaritas-kellogg-s\n",
    "# TODO: Uncomment the line below, fill in the values, and run the function\n",
    "get_labels(\"solid\", 18, 150, 0, 0, 150, 16)"
   ]
  },
  {
   "cell_type": "markdown",
   "id": "fbc63ab4",
   "metadata": {
    "papermill": {
     "duration": 0.010135,
     "end_time": "2022-06-01T19:49:15.293915",
     "exception": false,
     "start_time": "2022-06-01T19:49:15.283780",
     "status": "completed"
    },
    "tags": []
   },
   "source": [
    "Next, try [these mozzarella sticks](https://world-es.openfoodfacts.org/producto/0062325540104/mozzarella-cheese-sticks).  Here is [an image](https://imgur.com/rcdB7VH) with all of the nutritional information."
   ]
  },
  {
   "cell_type": "code",
   "execution_count": 13,
   "id": "3473849a",
   "metadata": {
    "execution": {
     "iopub.execute_input": "2022-06-01T19:49:15.315200Z",
     "iopub.status.busy": "2022-06-01T19:49:15.314581Z",
     "iopub.status.idle": "2022-06-01T19:49:15.320957Z",
     "shell.execute_reply": "2022-06-01T19:49:15.319462Z"
    },
    "papermill": {
     "duration": 0.020479,
     "end_time": "2022-06-01T19:49:15.323922",
     "exception": false,
     "start_time": "2022-06-01T19:49:15.303443",
     "status": "completed"
    },
    "tags": []
   },
   "outputs": [
    {
     "name": "stdout",
     "output_type": "stream",
     "text": [
      "EXCESO GRASAS SATURADAS / EXCESS SATURATED FAT\n",
      "EXCESO SODIO / EXCESS SODIUM\n",
      "EXCESO CALORÍAS / EXCESS CALORIES\n"
     ]
    }
   ],
   "source": [
    "# mozzarella sticks https://world-es.openfoodfacts.org/producto/0062325540104/mozzarella-cheese-sticks\n",
    "# TODO: Uncomment the line below, fill in the values, and run the function\n",
    "get_labels(\"solid\", 1, 3, 0.2, 0, 208, 0)"
   ]
  },
  {
   "cell_type": "markdown",
   "id": "63152f1a",
   "metadata": {
    "papermill": {
     "duration": 0.009525,
     "end_time": "2022-06-01T19:49:15.343164",
     "exception": false,
     "start_time": "2022-06-01T19:49:15.333639",
     "status": "completed"
    },
    "tags": []
   },
   "source": [
    "Feel free to skip to the end of the notebook now and run `q5.check()` to complete the exercise.  If you want to try more foods, \n",
    "- try [these cookies](https://world.openfoodfacts.org/product/0069700118545/biscuits-au-sucre-pretraches).  Here is [an image](https://imgur.com/2Bc271o) with all of the nutritional information.\n",
    "- try [this soda](https://world-es.openfoodfacts.org/producto/0078000113464/orange-soda-sunkist).  Here is [an image](https://imgur.com/RsBYa8E) with all of the nutritional information.\n",
    "\n",
    "Use the two code cells below for this."
   ]
  },
  {
   "cell_type": "code",
   "execution_count": 14,
   "id": "d13b7b04",
   "metadata": {
    "execution": {
     "iopub.execute_input": "2022-06-01T19:49:15.365449Z",
     "iopub.status.busy": "2022-06-01T19:49:15.364993Z",
     "iopub.status.idle": "2022-06-01T19:49:15.370470Z",
     "shell.execute_reply": "2022-06-01T19:49:15.369434Z"
    },
    "papermill": {
     "duration": 0.020221,
     "end_time": "2022-06-01T19:49:15.373664",
     "exception": false,
     "start_time": "2022-06-01T19:49:15.353443",
     "status": "completed"
    },
    "tags": []
   },
   "outputs": [
    {
     "name": "stdout",
     "output_type": "stream",
     "text": [
      "EXCESO GRASAS SATURADAS / EXCESS SATURATED FAT\n",
      "EXCESO SODIO / EXCESS SODIUM\n",
      "EXCESO CALORÍAS / EXCESS CALORIES\n"
     ]
    }
   ],
   "source": [
    "# pillsbury cookies https://world.openfoodfacts.org/product/0069700118545/biscuits-au-sucre-pretraches\n",
    "# TODO: Uncomment the line below, fill in the values, and run the function\n",
    "get_labels(\"solid\", 32, 110, 2.5, 0, 400, 1)"
   ]
  },
  {
   "cell_type": "code",
   "execution_count": 15,
   "id": "734e0b69",
   "metadata": {
    "execution": {
     "iopub.execute_input": "2022-06-01T19:49:15.396156Z",
     "iopub.status.busy": "2022-06-01T19:49:15.395597Z",
     "iopub.status.idle": "2022-06-01T19:49:15.401737Z",
     "shell.execute_reply": "2022-06-01T19:49:15.400508Z"
    },
    "papermill": {
     "duration": 0.019751,
     "end_time": "2022-06-01T19:49:15.403757",
     "exception": false,
     "start_time": "2022-06-01T19:49:15.384006",
     "status": "completed"
    },
    "tags": []
   },
   "outputs": [
    {
     "name": "stdout",
     "output_type": "stream",
     "text": [
      "EXCESO GRASAS SATURADAS / EXCESS SATURATED FAT\n",
      "EXCESO SODIO / EXCESS SODIUM\n",
      "EXCESO CALORÍAS / EXCESS CALORIES\n"
     ]
    }
   ],
   "source": [
    "# sunkist orange soda https://world-es.openfoodfacts.org/producto/0078000113464/orange-soda-sunkist\n",
    "# TODO: Uncomment the line below, fill in the values, and run the function\n",
    "get_labels(\"solid\", 32, 110, 2.5, 0, 400, 1)"
   ]
  },
  {
   "cell_type": "markdown",
   "id": "4ad479ed",
   "metadata": {
    "papermill": {
     "duration": 0.009473,
     "end_time": "2022-06-01T19:49:15.423139",
     "exception": false,
     "start_time": "2022-06-01T19:49:15.413666",
     "status": "completed"
    },
    "tags": []
   },
   "source": [
    "Once you have finished investigating the food items in this question, run the final code cell to get credit for completing this problem."
   ]
  },
  {
   "cell_type": "code",
   "execution_count": 16,
   "id": "0cf080ae",
   "metadata": {
    "execution": {
     "iopub.execute_input": "2022-06-01T19:49:15.443451Z",
     "iopub.status.busy": "2022-06-01T19:49:15.443015Z",
     "iopub.status.idle": "2022-06-01T19:49:15.451814Z",
     "shell.execute_reply": "2022-06-01T19:49:15.450566Z"
    },
    "papermill": {
     "duration": 0.021567,
     "end_time": "2022-06-01T19:49:15.454093",
     "exception": false,
     "start_time": "2022-06-01T19:49:15.432526",
     "status": "completed"
    },
    "tags": []
   },
   "outputs": [
    {
     "data": {
      "application/javascript": [
       "parent.postMessage({\"jupyterEvent\": \"custom.exercise_interaction\", \"data\": {\"outcomeType\": 1, \"valueTowardsCompletion\": 0.2, \"interactionType\": 1, \"questionType\": 2, \"questionId\": \"5_GetLabels\", \"learnToolsVersion\": \"0.3.4\", \"failureMessage\": \"\", \"exceptionClass\": \"\", \"trace\": \"\"}}, \"*\")"
      ],
      "text/plain": [
       "<IPython.core.display.Javascript object>"
      ]
     },
     "metadata": {},
     "output_type": "display_data"
    },
    {
     "data": {
      "text/markdown": [
       "<span style=\"color:#33cc33\">Once you have determined the labels for all of the food items, you're ready to move on to the next lesson!</span>"
      ],
      "text/plain": [
       "Once you have determined the labels for all of the food items, you're ready to move on to the next lesson!"
      ]
     },
     "metadata": {},
     "output_type": "display_data"
    }
   ],
   "source": [
    "# Get credit for completing the problem\n",
    "q5.check()"
   ]
  },
  {
   "cell_type": "markdown",
   "id": "6a862626",
   "metadata": {
    "papermill": {
     "duration": 0.009474,
     "end_time": "2022-06-01T19:49:15.473739",
     "exception": false,
     "start_time": "2022-06-01T19:49:15.464265",
     "status": "completed"
    },
    "tags": []
   },
   "source": [
    "# Keep going\n",
    "\n",
    "Continue to the next lesson to **[learn about Python lists](https://www.kaggle.com/alexisbcook/intro-to-lists)**."
   ]
  },
  {
   "cell_type": "markdown",
   "id": "515c9929",
   "metadata": {
    "papermill": {
     "duration": 0.009173,
     "end_time": "2022-06-01T19:49:15.492392",
     "exception": false,
     "start_time": "2022-06-01T19:49:15.483219",
     "status": "completed"
    },
    "tags": []
   },
   "source": [
    "---\n",
    "\n",
    "\n",
    "\n",
    "\n",
    "*Have questions or comments? Visit the [course discussion forum](https://www.kaggle.com/learn/intro-to-programming/discussion) to chat with other learners.*"
   ]
  }
 ],
 "metadata": {
  "kernelspec": {
   "display_name": "Python 3",
   "language": "python",
   "name": "python3"
  },
  "language_info": {
   "codemirror_mode": {
    "name": "ipython",
    "version": 3
   },
   "file_extension": ".py",
   "mimetype": "text/x-python",
   "name": "python",
   "nbconvert_exporter": "python",
   "pygments_lexer": "ipython3",
   "version": "3.7.12"
  },
  "papermill": {
   "default_parameters": {},
   "duration": 12.768444,
   "end_time": "2022-06-01T19:49:16.224102",
   "environment_variables": {},
   "exception": null,
   "input_path": "__notebook__.ipynb",
   "output_path": "__notebook__.ipynb",
   "parameters": {},
   "start_time": "2022-06-01T19:49:03.455658",
   "version": "2.3.4"
  }
 },
 "nbformat": 4,
 "nbformat_minor": 5
}
