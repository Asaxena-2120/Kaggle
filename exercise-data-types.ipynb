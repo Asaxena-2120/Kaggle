{
 "cells": [
  {
   "cell_type": "markdown",
   "id": "b1c75433",
   "metadata": {
    "papermill": {
     "duration": 0.008605,
     "end_time": "2022-06-01T18:53:00.198405",
     "exception": false,
     "start_time": "2022-06-01T18:53:00.189800",
     "status": "completed"
    },
    "tags": []
   },
   "source": [
    "**This notebook is an exercise in the [Intro to Programming](https://www.kaggle.com/learn/intro-to-programming) course.  You can reference the tutorial at [this link](https://www.kaggle.com/alexisbcook/data-types).**\n",
    "\n",
    "---\n"
   ]
  },
  {
   "cell_type": "markdown",
   "id": "21af45aa",
   "metadata": {
    "papermill": {
     "duration": 0.007572,
     "end_time": "2022-06-01T18:53:00.213778",
     "exception": false,
     "start_time": "2022-06-01T18:53:00.206206",
     "status": "completed"
    },
    "tags": []
   },
   "source": [
    "In the tutorial, you learned about four different data types: floats, integers, strings, and booleans.  In this exercise, you'll experiment with them.\n",
    "\n",
    "# Set up the notebook\n",
    "\n",
    "Run the next code cell without changes to set up the notebook."
   ]
  },
  {
   "cell_type": "code",
   "execution_count": 1,
   "id": "3ddc65ad",
   "metadata": {
    "execution": {
     "iopub.execute_input": "2022-06-01T18:53:00.231368Z",
     "iopub.status.busy": "2022-06-01T18:53:00.230891Z",
     "iopub.status.idle": "2022-06-01T18:53:00.281100Z",
     "shell.execute_reply": "2022-06-01T18:53:00.280037Z"
    },
    "papermill": {
     "duration": 0.062451,
     "end_time": "2022-06-01T18:53:00.284247",
     "exception": false,
     "start_time": "2022-06-01T18:53:00.221796",
     "status": "completed"
    },
    "tags": []
   },
   "outputs": [
    {
     "name": "stdout",
     "output_type": "stream",
     "text": [
      "Setup complete.\n"
     ]
    }
   ],
   "source": [
    "# Set up the exercise\n",
    "from learntools.core import binder\n",
    "binder.bind(globals())\n",
    "from learntools.intro_to_programming.ex3 import *\n",
    "print('Setup complete.')"
   ]
  },
  {
   "cell_type": "markdown",
   "id": "df8bbe0e",
   "metadata": {
    "papermill": {
     "duration": 0.007546,
     "end_time": "2022-06-01T18:53:00.300113",
     "exception": false,
     "start_time": "2022-06-01T18:53:00.292567",
     "status": "completed"
    },
    "tags": []
   },
   "source": [
    "# Question 1\n",
    "\n",
    "You have seen how to convert a float to an integer with the `int` function.  Try this out yourself by running the code cell below."
   ]
  },
  {
   "cell_type": "code",
   "execution_count": 2,
   "id": "7168d505",
   "metadata": {
    "execution": {
     "iopub.execute_input": "2022-06-01T18:53:00.317035Z",
     "iopub.status.busy": "2022-06-01T18:53:00.316632Z",
     "iopub.status.idle": "2022-06-01T18:53:00.322615Z",
     "shell.execute_reply": "2022-06-01T18:53:00.321688Z"
    },
    "papermill": {
     "duration": 0.017643,
     "end_time": "2022-06-01T18:53:00.325629",
     "exception": false,
     "start_time": "2022-06-01T18:53:00.307986",
     "status": "completed"
    },
    "tags": []
   },
   "outputs": [
    {
     "name": "stdout",
     "output_type": "stream",
     "text": [
      "1.0\n",
      "<class 'float'>\n",
      "1\n",
      "<class 'int'>\n"
     ]
    }
   ],
   "source": [
    "# Define a float\n",
    "y = 1.\n",
    "print(y)\n",
    "print(type(y))\n",
    "\n",
    "# Convert float to integer with the int function\n",
    "z = int(y)\n",
    "print(z)\n",
    "print(type(z))"
   ]
  },
  {
   "cell_type": "markdown",
   "id": "7eb91dce",
   "metadata": {
    "papermill": {
     "duration": 0.007346,
     "end_time": "2022-06-01T18:53:00.340746",
     "exception": false,
     "start_time": "2022-06-01T18:53:00.333400",
     "status": "completed"
    },
    "tags": []
   },
   "source": [
    "In this case, the float you are using has no numbers after the decimal.  \n",
    "- But what happens when you try to convert a float with a fractional part to an integer?  \n",
    "- How does the outcome of the `int` function change for positive and negative numbers?\n",
    "\n",
    "Use the next code cell to investigate and answer these questions.  Feel free to add or remove any lines of code -- it is your workspace!"
   ]
  },
  {
   "cell_type": "code",
   "execution_count": 3,
   "id": "4cb184bf",
   "metadata": {
    "execution": {
     "iopub.execute_input": "2022-06-01T18:53:00.358519Z",
     "iopub.status.busy": "2022-06-01T18:53:00.357965Z",
     "iopub.status.idle": "2022-06-01T18:53:00.363359Z",
     "shell.execute_reply": "2022-06-01T18:53:00.362145Z"
    },
    "papermill": {
     "duration": 0.017728,
     "end_time": "2022-06-01T18:53:00.366119",
     "exception": false,
     "start_time": "2022-06-01T18:53:00.348391",
     "status": "completed"
    },
    "tags": []
   },
   "outputs": [
    {
     "name": "stdout",
     "output_type": "stream",
     "text": [
      "1\n",
      "1\n",
      "-3\n",
      "-2\n"
     ]
    }
   ],
   "source": [
    "# Uncomment and run this code to get started!\n",
    "print(int(1.2321))\n",
    "print(int(1.747))\n",
    "print(int(-3.94535))\n",
    "print(int(-2.19774))"
   ]
  },
  {
   "cell_type": "markdown",
   "id": "c280976b",
   "metadata": {
    "papermill": {
     "duration": 0.007426,
     "end_time": "2022-06-01T18:53:00.381669",
     "exception": false,
     "start_time": "2022-06-01T18:53:00.374243",
     "status": "completed"
    },
    "tags": []
   },
   "source": [
    "Once you have an answer, run the code cell below to see the solution.  Viewing the solution will give you credit for answering the problem."
   ]
  },
  {
   "cell_type": "code",
   "execution_count": 4,
   "id": "135a7507",
   "metadata": {
    "execution": {
     "iopub.execute_input": "2022-06-01T18:53:00.400320Z",
     "iopub.status.busy": "2022-06-01T18:53:00.399404Z",
     "iopub.status.idle": "2022-06-01T18:53:00.409941Z",
     "shell.execute_reply": "2022-06-01T18:53:00.408882Z"
    },
    "papermill": {
     "duration": 0.022665,
     "end_time": "2022-06-01T18:53:00.412412",
     "exception": false,
     "start_time": "2022-06-01T18:53:00.389747",
     "status": "completed"
    },
    "tags": []
   },
   "outputs": [
    {
     "data": {
      "application/javascript": [
       "parent.postMessage({\"jupyterEvent\": \"custom.exercise_interaction\", \"data\": {\"outcomeType\": 1, \"valueTowardsCompletion\": 0.2, \"interactionType\": 1, \"questionType\": 4, \"questionId\": \"1_FloatToInt\", \"learnToolsVersion\": \"0.3.4\", \"failureMessage\": \"\", \"exceptionClass\": \"\", \"trace\": \"\"}}, \"*\")"
      ],
      "text/plain": [
       "<IPython.core.display.Javascript object>"
      ]
     },
     "metadata": {},
     "output_type": "display_data"
    },
    {
     "data": {
      "text/markdown": [
       "<span style=\"color:#33cc33\">Correct:</span> \n",
       "\n",
       "Negative floats are always rounded UP to the closest integer (for instance, both -1.1 and -1.9 are rounded up to -1). Positive floats are always rounded DOWN to the closest integer (for instance, 2.1 and 2.9 are rounded down to 2)."
      ],
      "text/plain": [
       "Correct: \n",
       "\n",
       "Negative floats are always rounded UP to the closest integer (for instance, both -1.1 and -1.9 are rounded up to -1). Positive floats are always rounded DOWN to the closest integer (for instance, 2.1 and 2.9 are rounded down to 2)."
      ]
     },
     "metadata": {},
     "output_type": "display_data"
    }
   ],
   "source": [
    "# Check your answer (Run this code cell to receive credit!)\n",
    "q1.check()"
   ]
  },
  {
   "cell_type": "markdown",
   "id": "dfcc5075",
   "metadata": {
    "papermill": {
     "duration": 0.008575,
     "end_time": "2022-06-01T18:53:00.429335",
     "exception": false,
     "start_time": "2022-06-01T18:53:00.420760",
     "status": "completed"
    },
    "tags": []
   },
   "source": [
    "# Question 2\n",
    "\n",
    "In the tutorial, you learned about booleans (which can take a value of `True` or `False`), in addition to integers, floats, and strings.  For this question, your goal is to determine what happens when you multiply a boolean by any of these data types.  Specifically, \n",
    "- What happens when you multiply an integer or float by `True`?  What happens when you multiply them by `False`?  How does the answer change if the numbers are positive or negative?\n",
    "- What happens when you multiply a string by `True`?  By `False`?\n",
    "\n",
    "Use the next code cell for your investigation. "
   ]
  },
  {
   "cell_type": "code",
   "execution_count": 5,
   "id": "e7dad647",
   "metadata": {
    "execution": {
     "iopub.execute_input": "2022-06-01T18:53:00.448414Z",
     "iopub.status.busy": "2022-06-01T18:53:00.447998Z",
     "iopub.status.idle": "2022-06-01T18:53:00.455133Z",
     "shell.execute_reply": "2022-06-01T18:53:00.453910Z"
    },
    "papermill": {
     "duration": 0.0204,
     "end_time": "2022-06-01T18:53:00.457982",
     "exception": false,
     "start_time": "2022-06-01T18:53:00.437582",
     "status": "completed"
    },
    "tags": []
   },
   "outputs": [
    {
     "name": "stdout",
     "output_type": "stream",
     "text": [
      "3\n",
      "-3.1\n",
      "-0.0\n",
      "\n",
      "abc\n",
      "<class 'str'>\n",
      "0\n"
     ]
    }
   ],
   "source": [
    "# Uncomment and run this code to get started!\n",
    "print(3 * True)\n",
    "print(-3.1 * True)\n",
    "print(-3.1 * False)\n",
    "print((\"abc\" * False))\n",
    "print((\"abc\" * True))\n",
    "print(type(\"abc\" * False))\n",
    "print(len(\"abc\" * False))"
   ]
  },
  {
   "cell_type": "markdown",
   "id": "2f6f937e",
   "metadata": {
    "papermill": {
     "duration": 0.009398,
     "end_time": "2022-06-01T18:53:00.477967",
     "exception": false,
     "start_time": "2022-06-01T18:53:00.468569",
     "status": "completed"
    },
    "tags": []
   },
   "source": [
    "Once you have an answer, run the code cell below to see the solution.  Viewing the solution will give you credit for answering the problem."
   ]
  },
  {
   "cell_type": "code",
   "execution_count": 6,
   "id": "788425a9",
   "metadata": {
    "execution": {
     "iopub.execute_input": "2022-06-01T18:53:00.496610Z",
     "iopub.status.busy": "2022-06-01T18:53:00.495926Z",
     "iopub.status.idle": "2022-06-01T18:53:00.503387Z",
     "shell.execute_reply": "2022-06-01T18:53:00.501887Z"
    },
    "papermill": {
     "duration": 0.019086,
     "end_time": "2022-06-01T18:53:00.505763",
     "exception": false,
     "start_time": "2022-06-01T18:53:00.486677",
     "status": "completed"
    },
    "tags": []
   },
   "outputs": [
    {
     "data": {
      "application/javascript": [
       "parent.postMessage({\"jupyterEvent\": \"custom.exercise_interaction\", \"data\": {\"outcomeType\": 1, \"valueTowardsCompletion\": 0.2, \"interactionType\": 1, \"questionType\": 4, \"questionId\": \"2_MultiplyBooleans\", \"learnToolsVersion\": \"0.3.4\", \"failureMessage\": \"\", \"exceptionClass\": \"\", \"trace\": \"\"}}, \"*\")"
      ],
      "text/plain": [
       "<IPython.core.display.Javascript object>"
      ]
     },
     "metadata": {},
     "output_type": "display_data"
    },
    {
     "data": {
      "text/markdown": [
       "<span style=\"color:#33cc33\">Correct:</span> \n",
       "\n",
       "When you multiple an integer or float by a boolean with value `True`, it just returns that same integer or float (and is equivalent to multiplying by 1).  If you multiply an integer or float by a boolean with value `False`, it always returns 0.  This is true for both positive and negative numbers.  If you multiply a string by a boolean with value `True`, it just returns that same string.  And if you multiply a string by a boolean with value `False`, it returns an empty string (or a string with length zero)."
      ],
      "text/plain": [
       "Correct: \n",
       "\n",
       "When you multiple an integer or float by a boolean with value `True`, it just returns that same integer or float (and is equivalent to multiplying by 1).  If you multiply an integer or float by a boolean with value `False`, it always returns 0.  This is true for both positive and negative numbers.  If you multiply a string by a boolean with value `True`, it just returns that same string.  And if you multiply a string by a boolean with value `False`, it returns an empty string (or a string with length zero)."
      ]
     },
     "metadata": {},
     "output_type": "display_data"
    }
   ],
   "source": [
    "# Check your answer (Run this code cell to receive credit!)\n",
    "q2.check()"
   ]
  },
  {
   "cell_type": "markdown",
   "id": "95ab870d",
   "metadata": {
    "papermill": {
     "duration": 0.008219,
     "end_time": "2022-06-01T18:53:00.522448",
     "exception": false,
     "start_time": "2022-06-01T18:53:00.514229",
     "status": "completed"
    },
    "tags": []
   },
   "source": [
    "# Question 3\n",
    "\n",
    "In this question, you will build off your work from the previous exercise to write a function that estimates the value of a house.\n",
    "\n",
    "Use the next code cell to create a function `get_expected_cost` that takes as input three variables:\n",
    "- `beds` - number of bedrooms (data type float)\n",
    "- `baths` - number of bathrooms (data type float)\n",
    "- `has_basement` - whether or not the house has a basement (data type boolean)\n",
    "\n",
    "It should return the expected cost of a house with those characteristics. Assume that:\n",
    "- the expected cost for a house with 0 bedrooms and 0 bathrooms, and no basement is 80000, \n",
    "- each bedroom adds 30000 to the expected cost,\n",
    "- each bathroom adds 10000 to the expected cost, and\n",
    "- a basement adds 40000 to the expected cost.\n",
    "\n",
    "For instance,\n",
    "- a house with 1 bedroom, 1 bathroom, and no basement has an expected cost of 80000 + 30000 + 10000 = 120000.  This value will be calculated with `get_expected_cost(1, 1, False)`.\n",
    "- a house with 2 bedrooms, 1 bathroom, and a basement has an expected cost of 80000 + 2*30000 + 10000 + 40000 = 190000.  This value will be calculated with `get_expected_cost(2, 1, True)`.\n",
    "\n",
    "Remember you can always get a hint by uncommenting `q3.hint()` in the code cell following the next!"
   ]
  },
  {
   "cell_type": "code",
   "execution_count": 7,
   "id": "864db5eb",
   "metadata": {
    "execution": {
     "iopub.execute_input": "2022-06-01T18:53:00.540920Z",
     "iopub.status.busy": "2022-06-01T18:53:00.540339Z",
     "iopub.status.idle": "2022-06-01T18:53:00.549323Z",
     "shell.execute_reply": "2022-06-01T18:53:00.548337Z"
    },
    "papermill": {
     "duration": 0.021073,
     "end_time": "2022-06-01T18:53:00.551812",
     "exception": false,
     "start_time": "2022-06-01T18:53:00.530739",
     "status": "completed"
    },
    "tags": []
   },
   "outputs": [
    {
     "data": {
      "application/javascript": [
       "parent.postMessage({\"jupyterEvent\": \"custom.exercise_interaction\", \"data\": {\"outcomeType\": 1, \"valueTowardsCompletion\": 0.2, \"interactionType\": 1, \"questionType\": 2, \"questionId\": \"3_EstimateHouseValueBool\", \"learnToolsVersion\": \"0.3.4\", \"failureMessage\": \"\", \"exceptionClass\": \"\", \"trace\": \"\"}}, \"*\")"
      ],
      "text/plain": [
       "<IPython.core.display.Javascript object>"
      ]
     },
     "metadata": {},
     "output_type": "display_data"
    },
    {
     "data": {
      "text/markdown": [
       "<span style=\"color:#33cc33\">Correct</span>"
      ],
      "text/plain": [
       "Correct"
      ]
     },
     "metadata": {},
     "output_type": "display_data"
    }
   ],
   "source": [
    "# TODO: Complete the function\n",
    "def get_expected_cost(beds, baths, has_basement):\n",
    "  \n",
    "    value = 80000 + (beds*30000) + (baths*10000) + 40000 *has_basement\n",
    "    \n",
    "    return value\n",
    "\n",
    "# Check your answer \n",
    "q3.check()"
   ]
  },
  {
   "cell_type": "code",
   "execution_count": 8,
   "id": "88de72ec",
   "metadata": {
    "execution": {
     "iopub.execute_input": "2022-06-01T18:53:00.571271Z",
     "iopub.status.busy": "2022-06-01T18:53:00.570352Z",
     "iopub.status.idle": "2022-06-01T18:53:00.575613Z",
     "shell.execute_reply": "2022-06-01T18:53:00.574616Z"
    },
    "papermill": {
     "duration": 0.017698,
     "end_time": "2022-06-01T18:53:00.578005",
     "exception": false,
     "start_time": "2022-06-01T18:53:00.560307",
     "status": "completed"
    },
    "tags": []
   },
   "outputs": [],
   "source": [
    "# Uncomment to see a hint\n",
    "#q3.hint()\n",
    "\n",
    "# Uncomment to view the solution\n",
    "#q3.solution()"
   ]
  },
  {
   "cell_type": "markdown",
   "id": "e9dce078",
   "metadata": {
    "papermill": {
     "duration": 0.0084,
     "end_time": "2022-06-01T18:53:00.595456",
     "exception": false,
     "start_time": "2022-06-01T18:53:00.587056",
     "status": "completed"
    },
    "tags": []
   },
   "source": [
    "# Question 4\n",
    "\n",
    "We'll continue our study of boolean arithmetic.  For this question, your task is to provide a description of what happpens when you add booleans. \n",
    "\n",
    "Use the next code cell for your investigation.  Feel free to add or remove any lines of code - use it as your workspace!"
   ]
  },
  {
   "cell_type": "code",
   "execution_count": 9,
   "id": "ba868995",
   "metadata": {
    "execution": {
     "iopub.execute_input": "2022-06-01T18:53:00.615071Z",
     "iopub.status.busy": "2022-06-01T18:53:00.614667Z",
     "iopub.status.idle": "2022-06-01T18:53:00.620801Z",
     "shell.execute_reply": "2022-06-01T18:53:00.619591Z"
    },
    "papermill": {
     "duration": 0.019544,
     "end_time": "2022-06-01T18:53:00.623846",
     "exception": false,
     "start_time": "2022-06-01T18:53:00.604302",
     "status": "completed"
    },
    "tags": []
   },
   "outputs": [
    {
     "name": "stdout",
     "output_type": "stream",
     "text": [
      "0\n",
      "1\n",
      "1\n",
      "2\n",
      "1\n",
      "0\n",
      "3\n"
     ]
    }
   ],
   "source": [
    "print(False + False)\n",
    "print(True + False)\n",
    "print(False + True)\n",
    "print(True + True)\n",
    "print(True * True)\n",
    "print(True * False)\n",
    "print(False + True + True + True)"
   ]
  },
  {
   "cell_type": "markdown",
   "id": "c6eefe81",
   "metadata": {
    "papermill": {
     "duration": 0.008184,
     "end_time": "2022-06-01T18:53:00.641689",
     "exception": false,
     "start_time": "2022-06-01T18:53:00.633505",
     "status": "completed"
    },
    "tags": []
   },
   "source": [
    "Once you have an answer, run the code cell below to see the solution.  Viewing the solution will give you credit for answering the problem."
   ]
  },
  {
   "cell_type": "code",
   "execution_count": 10,
   "id": "96c64098",
   "metadata": {
    "execution": {
     "iopub.execute_input": "2022-06-01T18:53:00.660955Z",
     "iopub.status.busy": "2022-06-01T18:53:00.660513Z",
     "iopub.status.idle": "2022-06-01T18:53:00.669030Z",
     "shell.execute_reply": "2022-06-01T18:53:00.668090Z"
    },
    "papermill": {
     "duration": 0.0208,
     "end_time": "2022-06-01T18:53:00.671136",
     "exception": false,
     "start_time": "2022-06-01T18:53:00.650336",
     "status": "completed"
    },
    "tags": []
   },
   "outputs": [
    {
     "data": {
      "application/javascript": [
       "parent.postMessage({\"jupyterEvent\": \"custom.exercise_interaction\", \"data\": {\"outcomeType\": 1, \"valueTowardsCompletion\": 0.2, \"interactionType\": 1, \"questionType\": 4, \"questionId\": \"4_AddingBooleans\", \"learnToolsVersion\": \"0.3.4\", \"failureMessage\": \"\", \"exceptionClass\": \"\", \"trace\": \"\"}}, \"*\")"
      ],
      "text/plain": [
       "<IPython.core.display.Javascript object>"
      ]
     },
     "metadata": {},
     "output_type": "display_data"
    },
    {
     "data": {
      "text/markdown": [
       "<span style=\"color:#33cc33\">Correct:</span> \n",
       "\n",
       "When you add booleans, adding `False` is equivalent to adding 0, and adding `True` is equivalent to adding 1."
      ],
      "text/plain": [
       "Correct: \n",
       "\n",
       "When you add booleans, adding `False` is equivalent to adding 0, and adding `True` is equivalent to adding 1."
      ]
     },
     "metadata": {},
     "output_type": "display_data"
    }
   ],
   "source": [
    "# Check your answer (Run this code cell to receive credit!)\n",
    "q4.check()"
   ]
  },
  {
   "cell_type": "markdown",
   "id": "4d43348e",
   "metadata": {
    "papermill": {
     "duration": 0.008527,
     "end_time": "2022-06-01T18:53:00.688240",
     "exception": false,
     "start_time": "2022-06-01T18:53:00.679713",
     "status": "completed"
    },
    "tags": []
   },
   "source": [
    "# 🌶️ Question 5\n",
    "\n",
    "You own an online shop where you sell rings with custom engravings.  You offer both gold plated and solid gold rings.\n",
    "- Gold plated rings have a base cost of \\\\$50, and you charge \\\\$7 per engraved unit.  \n",
    "- Solid gold rings have a base cost of \\\\$100, and you charge \\\\$10 per engraved unit.\n",
    "- Spaces and punctuation are counted as engraved units.\n",
    "\n",
    "Write a function `cost_of_project()` that takes two arguments:\n",
    "- `engraving` - a Python string with the text of the engraving\n",
    "- `solid_gold` - a Boolean that indicates whether the ring is solid gold\n",
    "\n",
    "It should return the cost of the project.  This question should be fairly challenging, and you may need a hint."
   ]
  },
  {
   "cell_type": "code",
   "execution_count": 11,
   "id": "ed4f1036",
   "metadata": {
    "execution": {
     "iopub.execute_input": "2022-06-01T18:53:00.707800Z",
     "iopub.status.busy": "2022-06-01T18:53:00.707080Z",
     "iopub.status.idle": "2022-06-01T18:53:00.717401Z",
     "shell.execute_reply": "2022-06-01T18:53:00.716207Z"
    },
    "papermill": {
     "duration": 0.022791,
     "end_time": "2022-06-01T18:53:00.719813",
     "exception": false,
     "start_time": "2022-06-01T18:53:00.697022",
     "status": "completed"
    },
    "tags": []
   },
   "outputs": [
    {
     "data": {
      "application/javascript": [
       "parent.postMessage({\"jupyterEvent\": \"custom.exercise_interaction\", \"data\": {\"outcomeType\": 1, \"valueTowardsCompletion\": 0.2, \"interactionType\": 1, \"questionType\": 2, \"questionId\": \"5_CustomEngravings\", \"learnToolsVersion\": \"0.3.4\", \"failureMessage\": \"\", \"exceptionClass\": \"\", \"trace\": \"\"}}, \"*\")"
      ],
      "text/plain": [
       "<IPython.core.display.Javascript object>"
      ]
     },
     "metadata": {},
     "output_type": "display_data"
    },
    {
     "data": {
      "text/markdown": [
       "<span style=\"color:#33cc33\">Correct</span>"
      ],
      "text/plain": [
       "Correct"
      ]
     },
     "metadata": {},
     "output_type": "display_data"
    }
   ],
   "source": [
    "def cost_of_project(engraving, solid_gold):\n",
    "    not_solid_gold = not solid_gold\n",
    "    cost = (solid_gold*len(engraving)*10) + (solid_gold*100) + (not_solid_gold*len(engraving)*7) + (not_solid_gold*50)\n",
    "    return cost\n",
    "\n",
    "# Check your answer\n",
    "q5.check()"
   ]
  },
  {
   "cell_type": "code",
   "execution_count": 12,
   "id": "e4b05697",
   "metadata": {
    "execution": {
     "iopub.execute_input": "2022-06-01T18:53:00.740013Z",
     "iopub.status.busy": "2022-06-01T18:53:00.739296Z",
     "iopub.status.idle": "2022-06-01T18:53:00.747647Z",
     "shell.execute_reply": "2022-06-01T18:53:00.746896Z"
    },
    "papermill": {
     "duration": 0.020711,
     "end_time": "2022-06-01T18:53:00.749640",
     "exception": false,
     "start_time": "2022-06-01T18:53:00.728929",
     "status": "completed"
    },
    "tags": []
   },
   "outputs": [
    {
     "data": {
      "application/javascript": [
       "parent.postMessage({\"jupyterEvent\": \"custom.exercise_interaction\", \"data\": {\"interactionType\": 2, \"questionType\": 2, \"questionId\": \"5_CustomEngravings\", \"learnToolsVersion\": \"0.3.4\", \"valueTowardsCompletion\": 0.0, \"failureMessage\": \"\", \"exceptionClass\": \"\", \"trace\": \"\", \"outcomeType\": 4}}, \"*\")"
      ],
      "text/plain": [
       "<IPython.core.display.Javascript object>"
      ]
     },
     "metadata": {},
     "output_type": "display_data"
    },
    {
     "data": {
      "text/markdown": [
       "<span style=\"color:#3366cc\">Hint:</span> There are two options - either the project uses solid gold or does not.  With this in mind, you can structure your solution like this: `cost = solid_gold * ____ + (not_solid_gold) * ____`.  You need to figure out how to fill in the blanks. Also, remember that:\n",
       "- If `solid_gold = True`, then `(not solid_gold) = False`, and if `solid_gold = False`, then `(not solid_gold) = True`.\n",
       "- Multiplying an integer by `True` is equivalent to multiplying it by 1, and multiplying an integer by `False` is equivalent to multiplying it by 0."
      ],
      "text/plain": [
       "Hint: There are two options - either the project uses solid gold or does not.  With this in mind, you can structure your solution like this: `cost = solid_gold * ____ + (not_solid_gold) * ____`.  You need to figure out how to fill in the blanks. Also, remember that:\n",
       "- If `solid_gold = True`, then `(not solid_gold) = False`, and if `solid_gold = False`, then `(not solid_gold) = True`.\n",
       "- Multiplying an integer by `True` is equivalent to multiplying it by 1, and multiplying an integer by `False` is equivalent to multiplying it by 0."
      ]
     },
     "metadata": {},
     "output_type": "display_data"
    }
   ],
   "source": [
    "# Uncomment to see a hint\n",
    "q5.hint()\n",
    "\n",
    "# Uncomment to view the solution\n",
    "#q5.solution()"
   ]
  },
  {
   "cell_type": "markdown",
   "id": "a7e2d395",
   "metadata": {
    "papermill": {
     "duration": 0.009248,
     "end_time": "2022-06-01T18:53:00.768206",
     "exception": false,
     "start_time": "2022-06-01T18:53:00.758958",
     "status": "completed"
    },
    "tags": []
   },
   "source": [
    "Run the next code cell to calculate the cost of engraving `Charlie+Denver` on a solid gold ring."
   ]
  },
  {
   "cell_type": "code",
   "execution_count": 13,
   "id": "3309375e",
   "metadata": {
    "execution": {
     "iopub.execute_input": "2022-06-01T18:53:00.789766Z",
     "iopub.status.busy": "2022-06-01T18:53:00.789027Z",
     "iopub.status.idle": "2022-06-01T18:53:00.795217Z",
     "shell.execute_reply": "2022-06-01T18:53:00.793842Z"
    },
    "papermill": {
     "duration": 0.019029,
     "end_time": "2022-06-01T18:53:00.797288",
     "exception": false,
     "start_time": "2022-06-01T18:53:00.778259",
     "status": "completed"
    },
    "tags": []
   },
   "outputs": [
    {
     "name": "stdout",
     "output_type": "stream",
     "text": [
      "240\n"
     ]
    }
   ],
   "source": [
    "project_one = cost_of_project(\"Charlie+Denver\", True)\n",
    "print(project_one)"
   ]
  },
  {
   "cell_type": "markdown",
   "id": "b1316842",
   "metadata": {
    "papermill": {
     "duration": 0.009043,
     "end_time": "2022-06-01T18:53:00.815626",
     "exception": false,
     "start_time": "2022-06-01T18:53:00.806583",
     "status": "completed"
    },
    "tags": []
   },
   "source": [
    "Use the next code cell to calculate the cost of engraving `08/10/2000` on a gold plated ring."
   ]
  },
  {
   "cell_type": "code",
   "execution_count": 14,
   "id": "095ad6c4",
   "metadata": {
    "execution": {
     "iopub.execute_input": "2022-06-01T18:53:00.837459Z",
     "iopub.status.busy": "2022-06-01T18:53:00.836471Z",
     "iopub.status.idle": "2022-06-01T18:53:00.842900Z",
     "shell.execute_reply": "2022-06-01T18:53:00.841514Z"
    },
    "papermill": {
     "duration": 0.020682,
     "end_time": "2022-06-01T18:53:00.846477",
     "exception": false,
     "start_time": "2022-06-01T18:53:00.825795",
     "status": "completed"
    },
    "tags": []
   },
   "outputs": [
    {
     "name": "stdout",
     "output_type": "stream",
     "text": [
      "120\n"
     ]
    }
   ],
   "source": [
    "project_two = cost_of_project(\"08/10/2000\", False)\n",
    "print(project_two)"
   ]
  },
  {
   "cell_type": "markdown",
   "id": "159fc9e8",
   "metadata": {
    "papermill": {
     "duration": 0.00944,
     "end_time": "2022-06-01T18:53:00.866004",
     "exception": false,
     "start_time": "2022-06-01T18:53:00.856564",
     "status": "completed"
    },
    "tags": []
   },
   "source": [
    "# Keep going\n",
    "\n",
    "Continue to the next lesson to **[learn about conditions and conditional statements](https://www.kaggle.com/alexisbcook/conditions-and-conditional-statements)**."
   ]
  },
  {
   "cell_type": "markdown",
   "id": "d28dc534",
   "metadata": {
    "papermill": {
     "duration": 0.010046,
     "end_time": "2022-06-01T18:53:00.885591",
     "exception": false,
     "start_time": "2022-06-01T18:53:00.875545",
     "status": "completed"
    },
    "tags": []
   },
   "source": [
    "---\n",
    "\n",
    "\n",
    "\n",
    "\n",
    "*Have questions or comments? Visit the [course discussion forum](https://www.kaggle.com/learn/intro-to-programming/discussion) to chat with other learners.*"
   ]
  }
 ],
 "metadata": {
  "kernelspec": {
   "display_name": "Python 3",
   "language": "python",
   "name": "python3"
  },
  "language_info": {
   "codemirror_mode": {
    "name": "ipython",
    "version": 3
   },
   "file_extension": ".py",
   "mimetype": "text/x-python",
   "name": "python",
   "nbconvert_exporter": "python",
   "pygments_lexer": "ipython3",
   "version": "3.7.12"
  },
  "papermill": {
   "default_parameters": {},
   "duration": 12.915621,
   "end_time": "2022-06-01T18:53:01.618325",
   "environment_variables": {},
   "exception": null,
   "input_path": "__notebook__.ipynb",
   "output_path": "__notebook__.ipynb",
   "parameters": {},
   "start_time": "2022-06-01T18:52:48.702704",
   "version": "2.3.4"
  }
 },
 "nbformat": 4,
 "nbformat_minor": 5
}
