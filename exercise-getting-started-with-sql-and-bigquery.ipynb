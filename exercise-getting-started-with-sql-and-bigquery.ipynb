{
 "cells": [
  {
   "cell_type": "markdown",
   "id": "418ed0dd",
   "metadata": {
    "papermill": {
     "duration": 0.009611,
     "end_time": "2022-06-03T18:45:17.409871",
     "exception": false,
     "start_time": "2022-06-03T18:45:17.400260",
     "status": "completed"
    },
    "tags": []
   },
   "source": [
    "**This notebook is an exercise in the [SQL](https://www.kaggle.com/learn/intro-to-sql) course.  You can reference the tutorial at [this link](https://www.kaggle.com/dansbecker/getting-started-with-sql-and-bigquery).**\n",
    "\n",
    "---\n"
   ]
  },
  {
   "cell_type": "markdown",
   "id": "27518434",
   "metadata": {
    "papermill": {
     "duration": 0.005617,
     "end_time": "2022-06-03T18:45:17.421624",
     "exception": false,
     "start_time": "2022-06-03T18:45:17.416007",
     "status": "completed"
    },
    "tags": []
   },
   "source": [
    "# Introduction\n",
    "\n",
    "The first test of your new data exploration skills uses data describing crime in the city of Chicago.\n",
    "\n",
    "Before you get started, run the following cell. It sets up the automated feedback system to review your answers."
   ]
  },
  {
   "cell_type": "code",
   "execution_count": 1,
   "id": "16477ca4",
   "metadata": {
    "execution": {
     "iopub.execute_input": "2022-06-03T18:45:17.435963Z",
     "iopub.status.busy": "2022-06-03T18:45:17.435045Z",
     "iopub.status.idle": "2022-06-03T18:45:18.430156Z",
     "shell.execute_reply": "2022-06-03T18:45:18.429086Z"
    },
    "papermill": {
     "duration": 1.004947,
     "end_time": "2022-06-03T18:45:18.432452",
     "exception": false,
     "start_time": "2022-06-03T18:45:17.427505",
     "status": "completed"
    },
    "tags": []
   },
   "outputs": [
    {
     "name": "stdout",
     "output_type": "stream",
     "text": [
      "Using Kaggle's public dataset BigQuery integration.\n",
      "Setup Complete\n"
     ]
    }
   ],
   "source": [
    "# Set up feedack system\n",
    "from learntools.core import binder\n",
    "binder.bind(globals())\n",
    "from learntools.sql.ex1 import *\n",
    "print(\"Setup Complete\")"
   ]
  },
  {
   "cell_type": "markdown",
   "id": "74811ae5",
   "metadata": {
    "papermill": {
     "duration": 0.005707,
     "end_time": "2022-06-03T18:45:18.444653",
     "exception": false,
     "start_time": "2022-06-03T18:45:18.438946",
     "status": "completed"
    },
    "tags": []
   },
   "source": [
    "Use the next code cell to fetch the dataset."
   ]
  },
  {
   "cell_type": "code",
   "execution_count": 2,
   "id": "29781af8",
   "metadata": {
    "execution": {
     "iopub.execute_input": "2022-06-03T18:45:18.458826Z",
     "iopub.status.busy": "2022-06-03T18:45:18.458096Z",
     "iopub.status.idle": "2022-06-03T18:45:18.638115Z",
     "shell.execute_reply": "2022-06-03T18:45:18.637289Z"
    },
    "papermill": {
     "duration": 0.190075,
     "end_time": "2022-06-03T18:45:18.640681",
     "exception": false,
     "start_time": "2022-06-03T18:45:18.450606",
     "status": "completed"
    },
    "tags": []
   },
   "outputs": [
    {
     "name": "stdout",
     "output_type": "stream",
     "text": [
      "Using Kaggle's public dataset BigQuery integration.\n"
     ]
    }
   ],
   "source": [
    "from google.cloud import bigquery\n",
    "\n",
    "# Create a \"Client\" object\n",
    "client = bigquery.Client()\n",
    "\n",
    "# Construct a reference to the \"chicago_crime\" dataset\n",
    "dataset_ref = client.dataset(\"chicago_crime\", project=\"bigquery-public-data\")\n",
    "\n",
    "# API request - fetch the dataset\n",
    "dataset = client.get_dataset(dataset_ref)"
   ]
  },
  {
   "cell_type": "markdown",
   "id": "aba99d5b",
   "metadata": {
    "papermill": {
     "duration": 0.005801,
     "end_time": "2022-06-03T18:45:18.652859",
     "exception": false,
     "start_time": "2022-06-03T18:45:18.647058",
     "status": "completed"
    },
    "tags": []
   },
   "source": [
    "# Exercises\n",
    "\n",
    "### 1) Count tables in the dataset\n",
    "\n",
    "How many tables are in the Chicago Crime dataset?"
   ]
  },
  {
   "cell_type": "code",
   "execution_count": 3,
   "id": "4799f881",
   "metadata": {
    "execution": {
     "iopub.execute_input": "2022-06-03T18:45:18.667366Z",
     "iopub.status.busy": "2022-06-03T18:45:18.666618Z",
     "iopub.status.idle": "2022-06-03T18:45:18.814833Z",
     "shell.execute_reply": "2022-06-03T18:45:18.814046Z"
    },
    "papermill": {
     "duration": 0.158204,
     "end_time": "2022-06-03T18:45:18.817228",
     "exception": false,
     "start_time": "2022-06-03T18:45:18.659024",
     "status": "completed"
    },
    "tags": []
   },
   "outputs": [],
   "source": [
    "# Write the code you need here to figure out the answer\n",
    "tables = list(client.list_tables(dataset))"
   ]
  },
  {
   "cell_type": "code",
   "execution_count": 4,
   "id": "5ade94ed",
   "metadata": {
    "execution": {
     "iopub.execute_input": "2022-06-03T18:45:18.832227Z",
     "iopub.status.busy": "2022-06-03T18:45:18.831489Z",
     "iopub.status.idle": "2022-06-03T18:45:18.842642Z",
     "shell.execute_reply": "2022-06-03T18:45:18.841769Z"
    },
    "papermill": {
     "duration": 0.021158,
     "end_time": "2022-06-03T18:45:18.844624",
     "exception": false,
     "start_time": "2022-06-03T18:45:18.823466",
     "status": "completed"
    },
    "tags": []
   },
   "outputs": [
    {
     "data": {
      "application/javascript": [
       "parent.postMessage({\"jupyterEvent\": \"custom.exercise_interaction\", \"data\": {\"outcomeType\": 1, \"valueTowardsCompletion\": 0.3333333333333333, \"interactionType\": 1, \"questionType\": 1, \"questionId\": \"1_CountTables\", \"learnToolsVersion\": \"0.3.4\", \"failureMessage\": \"\", \"exceptionClass\": \"\", \"trace\": \"\"}}, \"*\")"
      ],
      "text/plain": [
       "<IPython.core.display.Javascript object>"
      ]
     },
     "metadata": {},
     "output_type": "display_data"
    },
    {
     "data": {
      "text/markdown": [
       "<span style=\"color:#33cc33\">Correct</span>"
      ],
      "text/plain": [
       "Correct"
      ]
     },
     "metadata": {},
     "output_type": "display_data"
    }
   ],
   "source": [
    "num_tables = len(tables)  # Store the answer as num_tables and then run this cell\n",
    "\n",
    "# Check your answer\n",
    "q_1.check()"
   ]
  },
  {
   "cell_type": "markdown",
   "id": "868f3e4d",
   "metadata": {
    "papermill": {
     "duration": 0.006361,
     "end_time": "2022-06-03T18:45:18.857465",
     "exception": false,
     "start_time": "2022-06-03T18:45:18.851104",
     "status": "completed"
    },
    "tags": []
   },
   "source": [
    "For a hint or the solution, uncomment the appropriate line below."
   ]
  },
  {
   "cell_type": "code",
   "execution_count": 5,
   "id": "77cf4f98",
   "metadata": {
    "execution": {
     "iopub.execute_input": "2022-06-03T18:45:18.872607Z",
     "iopub.status.busy": "2022-06-03T18:45:18.872054Z",
     "iopub.status.idle": "2022-06-03T18:45:18.875951Z",
     "shell.execute_reply": "2022-06-03T18:45:18.875088Z"
    },
    "papermill": {
     "duration": 0.013833,
     "end_time": "2022-06-03T18:45:18.878038",
     "exception": false,
     "start_time": "2022-06-03T18:45:18.864205",
     "status": "completed"
    },
    "tags": []
   },
   "outputs": [],
   "source": [
    "#q_1.hint()\n",
    "#q_1.solution()"
   ]
  },
  {
   "cell_type": "markdown",
   "id": "4b141361",
   "metadata": {
    "papermill": {
     "duration": 0.006286,
     "end_time": "2022-06-03T18:45:18.890912",
     "exception": false,
     "start_time": "2022-06-03T18:45:18.884626",
     "status": "completed"
    },
    "tags": []
   },
   "source": [
    "### 2) Explore the table schema\n",
    "\n",
    "How many columns in the `crime` table have `TIMESTAMP` data?"
   ]
  },
  {
   "cell_type": "code",
   "execution_count": 6,
   "id": "6cf4bba0",
   "metadata": {
    "execution": {
     "iopub.execute_input": "2022-06-03T18:45:18.905728Z",
     "iopub.status.busy": "2022-06-03T18:45:18.905188Z",
     "iopub.status.idle": "2022-06-03T18:45:19.056146Z",
     "shell.execute_reply": "2022-06-03T18:45:19.055016Z"
    },
    "papermill": {
     "duration": 0.162033,
     "end_time": "2022-06-03T18:45:19.059360",
     "exception": false,
     "start_time": "2022-06-03T18:45:18.897327",
     "status": "completed"
    },
    "tags": []
   },
   "outputs": [
    {
     "name": "stdout",
     "output_type": "stream",
     "text": [
      "[SchemaField('unique_key', 'INTEGER', 'REQUIRED', None, (), None), SchemaField('case_number', 'STRING', 'NULLABLE', None, (), None), SchemaField('date', 'TIMESTAMP', 'NULLABLE', None, (), None), SchemaField('block', 'STRING', 'NULLABLE', None, (), None), SchemaField('iucr', 'STRING', 'NULLABLE', None, (), None), SchemaField('primary_type', 'STRING', 'NULLABLE', None, (), None), SchemaField('description', 'STRING', 'NULLABLE', None, (), None), SchemaField('location_description', 'STRING', 'NULLABLE', None, (), None), SchemaField('arrest', 'BOOLEAN', 'NULLABLE', None, (), None), SchemaField('domestic', 'BOOLEAN', 'NULLABLE', None, (), None), SchemaField('beat', 'INTEGER', 'NULLABLE', None, (), None), SchemaField('district', 'INTEGER', 'NULLABLE', None, (), None), SchemaField('ward', 'INTEGER', 'NULLABLE', None, (), None), SchemaField('community_area', 'INTEGER', 'NULLABLE', None, (), None), SchemaField('fbi_code', 'STRING', 'NULLABLE', None, (), None), SchemaField('x_coordinate', 'FLOAT', 'NULLABLE', None, (), None), SchemaField('y_coordinate', 'FLOAT', 'NULLABLE', None, (), None), SchemaField('year', 'INTEGER', 'NULLABLE', None, (), None), SchemaField('updated_on', 'TIMESTAMP', 'NULLABLE', None, (), None), SchemaField('latitude', 'FLOAT', 'NULLABLE', None, (), None), SchemaField('longitude', 'FLOAT', 'NULLABLE', None, (), None), SchemaField('location', 'STRING', 'NULLABLE', None, (), None)]\n"
     ]
    }
   ],
   "source": [
    "# Write the code to figure out the answer\n",
    "# Construct a reference to the \"crime\" table\n",
    "table_crime = dataset_ref.table(\"crime\")\n",
    "# API request - fetch the table\n",
    "table = client.get_table(table_crime)\n",
    "# Print information on all the columns in the \"crime\" table in the \"chicago_crime\" dataset\n",
    "print(table.schema)"
   ]
  },
  {
   "cell_type": "code",
   "execution_count": 7,
   "id": "1026c3fb",
   "metadata": {
    "execution": {
     "iopub.execute_input": "2022-06-03T18:45:19.075075Z",
     "iopub.status.busy": "2022-06-03T18:45:19.074622Z",
     "iopub.status.idle": "2022-06-03T18:45:19.082582Z",
     "shell.execute_reply": "2022-06-03T18:45:19.081677Z"
    },
    "papermill": {
     "duration": 0.018059,
     "end_time": "2022-06-03T18:45:19.084713",
     "exception": false,
     "start_time": "2022-06-03T18:45:19.066654",
     "status": "completed"
    },
    "tags": []
   },
   "outputs": [
    {
     "data": {
      "application/javascript": [
       "parent.postMessage({\"jupyterEvent\": \"custom.exercise_interaction\", \"data\": {\"outcomeType\": 1, \"valueTowardsCompletion\": 0.3333333333333333, \"interactionType\": 1, \"questionType\": 1, \"questionId\": \"2_CountTimestampFields\", \"learnToolsVersion\": \"0.3.4\", \"failureMessage\": \"\", \"exceptionClass\": \"\", \"trace\": \"\"}}, \"*\")"
      ],
      "text/plain": [
       "<IPython.core.display.Javascript object>"
      ]
     },
     "metadata": {},
     "output_type": "display_data"
    },
    {
     "data": {
      "text/markdown": [
       "<span style=\"color:#33cc33\">Correct</span>"
      ],
      "text/plain": [
       "Correct"
      ]
     },
     "metadata": {},
     "output_type": "display_data"
    }
   ],
   "source": [
    "num_timestamp_fields = 2 # Put your answer here\n",
    "\n",
    "# Check your answer\n",
    "q_2.check()"
   ]
  },
  {
   "cell_type": "markdown",
   "id": "b80e1313",
   "metadata": {
    "papermill": {
     "duration": 0.00649,
     "end_time": "2022-06-03T18:45:19.097989",
     "exception": false,
     "start_time": "2022-06-03T18:45:19.091499",
     "status": "completed"
    },
    "tags": []
   },
   "source": [
    "For a hint or the solution, uncomment the appropriate line below."
   ]
  },
  {
   "cell_type": "code",
   "execution_count": 8,
   "id": "54c7aa10",
   "metadata": {
    "execution": {
     "iopub.execute_input": "2022-06-03T18:45:19.113120Z",
     "iopub.status.busy": "2022-06-03T18:45:19.112658Z",
     "iopub.status.idle": "2022-06-03T18:45:19.124512Z",
     "shell.execute_reply": "2022-06-03T18:45:19.123555Z"
    },
    "papermill": {
     "duration": 0.021735,
     "end_time": "2022-06-03T18:45:19.126543",
     "exception": false,
     "start_time": "2022-06-03T18:45:19.104808",
     "status": "completed"
    },
    "tags": []
   },
   "outputs": [
    {
     "data": {
      "application/javascript": [
       "parent.postMessage({\"jupyterEvent\": \"custom.exercise_interaction\", \"data\": {\"interactionType\": 2, \"questionType\": 1, \"questionId\": \"2_CountTimestampFields\", \"learnToolsVersion\": \"0.3.4\", \"valueTowardsCompletion\": 0.0, \"failureMessage\": \"\", \"exceptionClass\": \"\", \"trace\": \"\", \"outcomeType\": 4}}, \"*\")"
      ],
      "text/plain": [
       "<IPython.core.display.Javascript object>"
      ]
     },
     "metadata": {},
     "output_type": "display_data"
    },
    {
     "data": {
      "text/markdown": [
       "<span style=\"color:#3366cc\">Hint:</span> Begin by fetching the `crime` table. Then take a look at the table schema, and check the field type of each column.  How many times does `'TIMESTAMP'` appear?"
      ],
      "text/plain": [
       "Hint: Begin by fetching the `crime` table. Then take a look at the table schema, and check the field type of each column.  How many times does `'TIMESTAMP'` appear?"
      ]
     },
     "metadata": {},
     "output_type": "display_data"
    },
    {
     "data": {
      "application/javascript": [
       "parent.postMessage({\"jupyterEvent\": \"custom.exercise_interaction\", \"data\": {\"interactionType\": 3, \"questionType\": 1, \"questionId\": \"2_CountTimestampFields\", \"learnToolsVersion\": \"0.3.4\", \"valueTowardsCompletion\": 0.0, \"failureMessage\": \"\", \"exceptionClass\": \"\", \"trace\": \"\", \"outcomeType\": 4}}, \"*\")"
      ],
      "text/plain": [
       "<IPython.core.display.Javascript object>"
      ]
     },
     "metadata": {},
     "output_type": "display_data"
    },
    {
     "data": {
      "text/markdown": [
       "<span style=\"color:#33cc99\">Solution:</span> \n",
       "```python\n",
       "\n",
       "# Construct a reference to the \"crime\" table\n",
       "table_ref = dataset_ref.table(\"crime\")\n",
       "\n",
       "# API request - fetch the table\n",
       "table = client.get_table(table_ref)\n",
       "\n",
       "# Print information on all the columns in the \"crime\" table in the \"chicago_crime\" dataset\n",
       "print(table.schema)\n",
       "\n",
       "num_timestamp_fields = 2\n",
       "\n",
       "```"
      ],
      "text/plain": [
       "Solution: \n",
       "```python\n",
       "\n",
       "# Construct a reference to the \"crime\" table\n",
       "table_ref = dataset_ref.table(\"crime\")\n",
       "\n",
       "# API request - fetch the table\n",
       "table = client.get_table(table_ref)\n",
       "\n",
       "# Print information on all the columns in the \"crime\" table in the \"chicago_crime\" dataset\n",
       "print(table.schema)\n",
       "\n",
       "num_timestamp_fields = 2\n",
       "\n",
       "```"
      ]
     },
     "metadata": {},
     "output_type": "display_data"
    }
   ],
   "source": [
    "q_2.hint()\n",
    "q_2.solution()"
   ]
  },
  {
   "cell_type": "markdown",
   "id": "f8c77b25",
   "metadata": {
    "papermill": {
     "duration": 0.007033,
     "end_time": "2022-06-03T18:45:19.141014",
     "exception": false,
     "start_time": "2022-06-03T18:45:19.133981",
     "status": "completed"
    },
    "tags": []
   },
   "source": [
    "### 3) Create a crime map\n",
    "\n",
    "If you wanted to create a map with a dot at the location of each crime, what are the names of the two fields you likely need to pull out of the `crime` table to plot the crimes on a map?"
   ]
  },
  {
   "cell_type": "code",
   "execution_count": 9,
   "id": "8f249ebb",
   "metadata": {
    "execution": {
     "iopub.execute_input": "2022-06-03T18:45:19.157084Z",
     "iopub.status.busy": "2022-06-03T18:45:19.156653Z",
     "iopub.status.idle": "2022-06-03T18:45:19.656798Z",
     "shell.execute_reply": "2022-06-03T18:45:19.655830Z"
    },
    "papermill": {
     "duration": 0.510955,
     "end_time": "2022-06-03T18:45:19.659341",
     "exception": false,
     "start_time": "2022-06-03T18:45:19.148386",
     "status": "completed"
    },
    "tags": []
   },
   "outputs": [
    {
     "name": "stderr",
     "output_type": "stream",
     "text": [
      "/opt/conda/lib/python3.7/site-packages/ipykernel_launcher.py:2: UserWarning: Cannot use bqstorage_client if max_results is set, reverting to fetching data with the tabledata.list endpoint.\n",
      "  \n"
     ]
    },
    {
     "data": {
      "text/html": [
       "<div>\n",
       "<style scoped>\n",
       "    .dataframe tbody tr th:only-of-type {\n",
       "        vertical-align: middle;\n",
       "    }\n",
       "\n",
       "    .dataframe tbody tr th {\n",
       "        vertical-align: top;\n",
       "    }\n",
       "\n",
       "    .dataframe thead th {\n",
       "        text-align: right;\n",
       "    }\n",
       "</style>\n",
       "<table border=\"1\" class=\"dataframe\">\n",
       "  <thead>\n",
       "    <tr style=\"text-align: right;\">\n",
       "      <th></th>\n",
       "      <th>unique_key</th>\n",
       "      <th>case_number</th>\n",
       "      <th>date</th>\n",
       "      <th>block</th>\n",
       "      <th>iucr</th>\n",
       "      <th>primary_type</th>\n",
       "      <th>description</th>\n",
       "      <th>location_description</th>\n",
       "      <th>arrest</th>\n",
       "      <th>domestic</th>\n",
       "      <th>...</th>\n",
       "      <th>ward</th>\n",
       "      <th>community_area</th>\n",
       "      <th>fbi_code</th>\n",
       "      <th>x_coordinate</th>\n",
       "      <th>y_coordinate</th>\n",
       "      <th>year</th>\n",
       "      <th>updated_on</th>\n",
       "      <th>latitude</th>\n",
       "      <th>longitude</th>\n",
       "      <th>location</th>\n",
       "    </tr>\n",
       "  </thead>\n",
       "  <tbody>\n",
       "    <tr>\n",
       "      <th>0</th>\n",
       "      <td>10070486</td>\n",
       "      <td>HY259151</td>\n",
       "      <td>2015-05-08 02:30:00+00:00</td>\n",
       "      <td>087XX S EUCLID AVE</td>\n",
       "      <td>1750</td>\n",
       "      <td>OFFENSE INVOLVING CHILDREN</td>\n",
       "      <td>CHILD ABUSE</td>\n",
       "      <td>VEHICLE NON-COMMERCIAL</td>\n",
       "      <td>False</td>\n",
       "      <td>False</td>\n",
       "      <td>...</td>\n",
       "      <td>8</td>\n",
       "      <td>48</td>\n",
       "      <td>20</td>\n",
       "      <td>1190700.0</td>\n",
       "      <td>1847448.0</td>\n",
       "      <td>2015</td>\n",
       "      <td>2018-02-10 03:50:01+00:00</td>\n",
       "      <td>41.736415</td>\n",
       "      <td>-87.576919</td>\n",
       "      <td>(41.736414898, -87.57691922)</td>\n",
       "    </tr>\n",
       "    <tr>\n",
       "      <th>1</th>\n",
       "      <td>4319437</td>\n",
       "      <td>HL620349</td>\n",
       "      <td>2005-09-18 05:05:00+00:00</td>\n",
       "      <td>042XX S COTTAGE GROVE AVE</td>\n",
       "      <td>0420</td>\n",
       "      <td>BATTERY</td>\n",
       "      <td>AGGRAVATED:KNIFE/CUTTING INSTR</td>\n",
       "      <td>STREET</td>\n",
       "      <td>False</td>\n",
       "      <td>False</td>\n",
       "      <td>...</td>\n",
       "      <td>4</td>\n",
       "      <td>36</td>\n",
       "      <td>04B</td>\n",
       "      <td>1182308.0</td>\n",
       "      <td>1877185.0</td>\n",
       "      <td>2005</td>\n",
       "      <td>2018-02-10 03:50:01+00:00</td>\n",
       "      <td>41.818214</td>\n",
       "      <td>-87.606744</td>\n",
       "      <td>(41.818214314, -87.60674381)</td>\n",
       "    </tr>\n",
       "    <tr>\n",
       "      <th>2</th>\n",
       "      <td>4541560</td>\n",
       "      <td>HM130396</td>\n",
       "      <td>2006-01-18 12:34:00+00:00</td>\n",
       "      <td>018XX W 35TH ST</td>\n",
       "      <td>0312</td>\n",
       "      <td>ROBBERY</td>\n",
       "      <td>ARMED:KNIFE/CUTTING INSTRUMENT</td>\n",
       "      <td>RESTAURANT</td>\n",
       "      <td>False</td>\n",
       "      <td>False</td>\n",
       "      <td>...</td>\n",
       "      <td>11</td>\n",
       "      <td>59</td>\n",
       "      <td>03</td>\n",
       "      <td>1164442.0</td>\n",
       "      <td>1881491.0</td>\n",
       "      <td>2006</td>\n",
       "      <td>2018-02-28 03:56:25+00:00</td>\n",
       "      <td>41.830426</td>\n",
       "      <td>-87.672160</td>\n",
       "      <td>(41.830426317, -87.672160497)</td>\n",
       "    </tr>\n",
       "    <tr>\n",
       "      <th>3</th>\n",
       "      <td>4557149</td>\n",
       "      <td>HM146684</td>\n",
       "      <td>2006-01-22 07:00:00+00:00</td>\n",
       "      <td>061XX W FOSTER AVE</td>\n",
       "      <td>1120</td>\n",
       "      <td>DECEPTIVE PRACTICE</td>\n",
       "      <td>FORGERY</td>\n",
       "      <td>BANK</td>\n",
       "      <td>False</td>\n",
       "      <td>False</td>\n",
       "      <td>...</td>\n",
       "      <td>45</td>\n",
       "      <td>11</td>\n",
       "      <td>10</td>\n",
       "      <td>1134020.0</td>\n",
       "      <td>1934203.0</td>\n",
       "      <td>2006</td>\n",
       "      <td>2018-02-28 03:56:25+00:00</td>\n",
       "      <td>41.975663</td>\n",
       "      <td>-87.782540</td>\n",
       "      <td>(41.975663067, -87.782539735)</td>\n",
       "    </tr>\n",
       "    <tr>\n",
       "      <th>4</th>\n",
       "      <td>4414078</td>\n",
       "      <td>HL709684</td>\n",
       "      <td>2005-10-22 09:00:00+00:00</td>\n",
       "      <td>061XX N NORTHWEST HWY</td>\n",
       "      <td>1110</td>\n",
       "      <td>DECEPTIVE PRACTICE</td>\n",
       "      <td>BOGUS CHECK</td>\n",
       "      <td>RESTAURANT</td>\n",
       "      <td>False</td>\n",
       "      <td>False</td>\n",
       "      <td>...</td>\n",
       "      <td>41</td>\n",
       "      <td>10</td>\n",
       "      <td>11</td>\n",
       "      <td>1129382.0</td>\n",
       "      <td>1940348.0</td>\n",
       "      <td>2005</td>\n",
       "      <td>2018-02-28 03:56:25+00:00</td>\n",
       "      <td>41.992606</td>\n",
       "      <td>-87.799455</td>\n",
       "      <td>(41.992606104, -87.799454843)</td>\n",
       "    </tr>\n",
       "  </tbody>\n",
       "</table>\n",
       "<p>5 rows × 22 columns</p>\n",
       "</div>"
      ],
      "text/plain": [
       "   unique_key case_number                      date  \\\n",
       "0    10070486    HY259151 2015-05-08 02:30:00+00:00   \n",
       "1     4319437    HL620349 2005-09-18 05:05:00+00:00   \n",
       "2     4541560    HM130396 2006-01-18 12:34:00+00:00   \n",
       "3     4557149    HM146684 2006-01-22 07:00:00+00:00   \n",
       "4     4414078    HL709684 2005-10-22 09:00:00+00:00   \n",
       "\n",
       "                       block  iucr                primary_type  \\\n",
       "0         087XX S EUCLID AVE  1750  OFFENSE INVOLVING CHILDREN   \n",
       "1  042XX S COTTAGE GROVE AVE  0420                     BATTERY   \n",
       "2            018XX W 35TH ST  0312                     ROBBERY   \n",
       "3         061XX W FOSTER AVE  1120          DECEPTIVE PRACTICE   \n",
       "4      061XX N NORTHWEST HWY  1110          DECEPTIVE PRACTICE   \n",
       "\n",
       "                      description    location_description  arrest  domestic  \\\n",
       "0                     CHILD ABUSE  VEHICLE NON-COMMERCIAL   False     False   \n",
       "1  AGGRAVATED:KNIFE/CUTTING INSTR                  STREET   False     False   \n",
       "2  ARMED:KNIFE/CUTTING INSTRUMENT              RESTAURANT   False     False   \n",
       "3                         FORGERY                    BANK   False     False   \n",
       "4                     BOGUS CHECK              RESTAURANT   False     False   \n",
       "\n",
       "   ...  ward  community_area  fbi_code  x_coordinate y_coordinate  year  \\\n",
       "0  ...     8              48        20     1190700.0    1847448.0  2015   \n",
       "1  ...     4              36       04B     1182308.0    1877185.0  2005   \n",
       "2  ...    11              59        03     1164442.0    1881491.0  2006   \n",
       "3  ...    45              11        10     1134020.0    1934203.0  2006   \n",
       "4  ...    41              10        11     1129382.0    1940348.0  2005   \n",
       "\n",
       "                 updated_on   latitude  longitude  \\\n",
       "0 2018-02-10 03:50:01+00:00  41.736415 -87.576919   \n",
       "1 2018-02-10 03:50:01+00:00  41.818214 -87.606744   \n",
       "2 2018-02-28 03:56:25+00:00  41.830426 -87.672160   \n",
       "3 2018-02-28 03:56:25+00:00  41.975663 -87.782540   \n",
       "4 2018-02-28 03:56:25+00:00  41.992606 -87.799455   \n",
       "\n",
       "                        location  \n",
       "0   (41.736414898, -87.57691922)  \n",
       "1   (41.818214314, -87.60674381)  \n",
       "2  (41.830426317, -87.672160497)  \n",
       "3  (41.975663067, -87.782539735)  \n",
       "4  (41.992606104, -87.799454843)  \n",
       "\n",
       "[5 rows x 22 columns]"
      ]
     },
     "execution_count": 9,
     "metadata": {},
     "output_type": "execute_result"
    }
   ],
   "source": [
    "# Write the code here to explore the data so you can find the answer\n",
    "client.list_rows(table, max_results=5).to_dataframe()"
   ]
  },
  {
   "cell_type": "code",
   "execution_count": 10,
   "id": "ede3bbd9",
   "metadata": {
    "execution": {
     "iopub.execute_input": "2022-06-03T18:45:19.676810Z",
     "iopub.status.busy": "2022-06-03T18:45:19.676378Z",
     "iopub.status.idle": "2022-06-03T18:45:19.685859Z",
     "shell.execute_reply": "2022-06-03T18:45:19.684698Z"
    },
    "papermill": {
     "duration": 0.020777,
     "end_time": "2022-06-03T18:45:19.688005",
     "exception": false,
     "start_time": "2022-06-03T18:45:19.667228",
     "status": "completed"
    },
    "tags": []
   },
   "outputs": [
    {
     "data": {
      "application/javascript": [
       "parent.postMessage({\"jupyterEvent\": \"custom.exercise_interaction\", \"data\": {\"outcomeType\": 1, \"valueTowardsCompletion\": 0.3333333333333333, \"interactionType\": 1, \"questionType\": 2, \"questionId\": \"3_IdentifyFieldsForPlotting\", \"learnToolsVersion\": \"0.3.4\", \"failureMessage\": \"\", \"exceptionClass\": \"\", \"trace\": \"\"}}, \"*\")"
      ],
      "text/plain": [
       "<IPython.core.display.Javascript object>"
      ]
     },
     "metadata": {},
     "output_type": "display_data"
    },
    {
     "data": {
      "text/markdown": [
       "<span style=\"color:#33cc33\">Correct</span>"
      ],
      "text/plain": [
       "Correct"
      ]
     },
     "metadata": {},
     "output_type": "display_data"
    }
   ],
   "source": [
    "fields_for_plotting = ['latitude', 'longitude'] # Put your answers here\n",
    "\n",
    "# Check your answer\n",
    "q_3.check()"
   ]
  },
  {
   "cell_type": "markdown",
   "id": "35e5e7dd",
   "metadata": {
    "papermill": {
     "duration": 0.007789,
     "end_time": "2022-06-03T18:45:19.704087",
     "exception": false,
     "start_time": "2022-06-03T18:45:19.696298",
     "status": "completed"
    },
    "tags": []
   },
   "source": [
    "For a hint or the solution, uncomment the appropriate line below."
   ]
  },
  {
   "cell_type": "code",
   "execution_count": 11,
   "id": "4e83fa48",
   "metadata": {
    "execution": {
     "iopub.execute_input": "2022-06-03T18:45:19.722893Z",
     "iopub.status.busy": "2022-06-03T18:45:19.722424Z",
     "iopub.status.idle": "2022-06-03T18:45:19.730635Z",
     "shell.execute_reply": "2022-06-03T18:45:19.729684Z"
    },
    "papermill": {
     "duration": 0.019738,
     "end_time": "2022-06-03T18:45:19.732537",
     "exception": false,
     "start_time": "2022-06-03T18:45:19.712799",
     "status": "completed"
    },
    "tags": []
   },
   "outputs": [
    {
     "data": {
      "application/javascript": [
       "parent.postMessage({\"jupyterEvent\": \"custom.exercise_interaction\", \"data\": {\"interactionType\": 2, \"questionType\": 2, \"questionId\": \"3_IdentifyFieldsForPlotting\", \"learnToolsVersion\": \"0.3.4\", \"valueTowardsCompletion\": 0.0, \"failureMessage\": \"\", \"exceptionClass\": \"\", \"trace\": \"\", \"outcomeType\": 4}}, \"*\")"
      ],
      "text/plain": [
       "<IPython.core.display.Javascript object>"
      ]
     },
     "metadata": {},
     "output_type": "display_data"
    },
    {
     "data": {
      "text/markdown": [
       "<span style=\"color:#3366cc\">Hint:</span> Look at the table schema.  There are a couple options, but two of the fields are things commonly used to plot on maps. Both are `'FLOAT'` types. Use quotes around the field names in your answer."
      ],
      "text/plain": [
       "Hint: Look at the table schema.  There are a couple options, but two of the fields are things commonly used to plot on maps. Both are `'FLOAT'` types. Use quotes around the field names in your answer."
      ]
     },
     "metadata": {},
     "output_type": "display_data"
    }
   ],
   "source": [
    "q_3.hint()\n",
    "#q_3.solution()"
   ]
  },
  {
   "cell_type": "markdown",
   "id": "fb392ff5",
   "metadata": {
    "papermill": {
     "duration": 0.008144,
     "end_time": "2022-06-03T18:45:19.749419",
     "exception": false,
     "start_time": "2022-06-03T18:45:19.741275",
     "status": "completed"
    },
    "tags": []
   },
   "source": [
    "Thinking about the question above, there are a few columns that appear to have geographic data. Look at a few values (with the `list_rows()` command) to see if you can determine their relationship.  Two columns will still be hard to interpret. But it should be obvious how the `location` column relates to `latitude` and `longitude`."
   ]
  },
  {
   "cell_type": "code",
   "execution_count": 12,
   "id": "223f2ec1",
   "metadata": {
    "execution": {
     "iopub.execute_input": "2022-06-03T18:45:19.767719Z",
     "iopub.status.busy": "2022-06-03T18:45:19.767340Z",
     "iopub.status.idle": "2022-06-03T18:45:19.771581Z",
     "shell.execute_reply": "2022-06-03T18:45:19.770534Z"
    },
    "papermill": {
     "duration": 0.015985,
     "end_time": "2022-06-03T18:45:19.773644",
     "exception": false,
     "start_time": "2022-06-03T18:45:19.757659",
     "status": "completed"
    },
    "tags": []
   },
   "outputs": [],
   "source": [
    "# Scratch space for your code"
   ]
  },
  {
   "cell_type": "markdown",
   "id": "173bcc43",
   "metadata": {
    "papermill": {
     "duration": 0.008217,
     "end_time": "2022-06-03T18:45:19.791464",
     "exception": false,
     "start_time": "2022-06-03T18:45:19.783247",
     "status": "completed"
    },
    "tags": []
   },
   "source": [
    "# Keep going\n",
    "\n",
    "You've looked at the schema, but you haven't yet done anything exciting with the data itself. Things get more interesting when you get to the data, so keep going to **[write your first SQL query](https://www.kaggle.com/dansbecker/select-from-where).**"
   ]
  }
 ],
 "metadata": {
  "kernelspec": {
   "display_name": "Python 3",
   "language": "python",
   "name": "python3"
  },
  "language_info": {
   "codemirror_mode": {
    "name": "ipython",
    "version": 3
   },
   "file_extension": ".py",
   "mimetype": "text/x-python",
   "name": "python",
   "nbconvert_exporter": "python",
   "pygments_lexer": "ipython3",
   "version": "3.7.12"
  },
  "papermill": {
   "default_parameters": {},
   "duration": 13.19419,
   "end_time": "2022-06-03T18:45:20.421842",
   "environment_variables": {},
   "exception": null,
   "input_path": "__notebook__.ipynb",
   "output_path": "__notebook__.ipynb",
   "parameters": {},
   "start_time": "2022-06-03T18:45:07.227652",
   "version": "2.3.4"
  }
 },
 "nbformat": 4,
 "nbformat_minor": 5
}
